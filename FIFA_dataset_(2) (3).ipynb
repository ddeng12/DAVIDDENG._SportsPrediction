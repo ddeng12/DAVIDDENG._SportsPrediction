{
  "cells": [
    {
      "cell_type": "code",
      "execution_count": 1,
      "id": "0b2ed812-730f-4a5a-b60d-ce08387755aa",
      "metadata": {
        "id": "0b2ed812-730f-4a5a-b60d-ce08387755aa"
      },
      "outputs": [],
      "source": [
        "import pandas as pd\n",
        "import numpy as np\n",
        "from sklearn.model_selection import train_test_split, cross_val_score, GridSearchCV\n",
        "from sklearn.preprocessing import StandardScaler, OneHotEncoder\n",
        "from sklearn.compose import ColumnTransformer\n",
        "from sklearn.pipeline import Pipeline\n",
        "from sklearn.impute import SimpleImputer\n",
        "from sklearn.ensemble import RandomForestRegressor, GradientBoostingRegressor, AdaBoostRegressor\n",
        "from sklearn.metrics import mean_squared_error, r2_score\n",
        "import pickle"
      ]
    },
    {
      "cell_type": "markdown",
      "id": "cfaab2a8-8654-4bf5-a77c-fdf3077b2dea",
      "metadata": {
        "id": "cfaab2a8-8654-4bf5-a77c-fdf3077b2dea"
      },
      "source": [
        "**Load the data**"
      ]
    },
    {
      "cell_type": "code",
      "execution_count": 2,
      "id": "20d7420e-01ac-43da-8ab5-598ca3c0585c",
      "metadata": {
        "id": "20d7420e-01ac-43da-8ab5-598ca3c0585c"
      },
      "outputs": [],
      "source": [
        "fifa_data = pd.read_csv('male_players (legacy).csv', low_memory=False)"
      ]
    },
    {
      "cell_type": "code",
      "execution_count": 3,
      "id": "fa986423-004c-4a8b-89b1-fe3fbf5f0283",
      "metadata": {
        "colab": {
          "base_uri": "https://localhost:8080/",
          "height": 429
        },
        "id": "fa986423-004c-4a8b-89b1-fe3fbf5f0283",
        "outputId": "7093551d-6d5e-4ed0-c318-f24ea99bff40"
      },
      "outputs": [
        {
          "output_type": "execute_result",
          "data": {
            "text/plain": [
              "   player_id                                        player_url  fifa_version  \\\n",
              "0     158023                /player/158023/lionel-messi/150002            15   \n",
              "1      20801  /player/20801/c-ronaldo-dos-santos-aveiro/150002            15   \n",
              "2       9014                  /player/9014/arjen-robben/150002            15   \n",
              "3      41236           /player/41236/zlatan-ibrahimovic/150002            15   \n",
              "4     167495                /player/167495/manuel-neuer/150002            15   \n",
              "\n",
              "   fifa_update fifa_update_date         short_name  \\\n",
              "0            2       2014-09-18           L. Messi   \n",
              "1            2       2014-09-18  Cristiano Ronaldo   \n",
              "2            2       2014-09-18          A. Robben   \n",
              "3            2       2014-09-18     Z. Ibrahimović   \n",
              "4            2       2014-09-18           M. Neuer   \n",
              "\n",
              "                             long_name player_positions  overall  potential  \\\n",
              "0       Lionel Andrés Messi Cuccittini               CF     93.0       95.0   \n",
              "1  Cristiano Ronaldo dos Santos Aveiro           LW, LM     92.0       92.0   \n",
              "2                         Arjen Robben       RM, LM, RW     90.0       90.0   \n",
              "3                   Zlatan Ibrahimović               ST     90.0       90.0   \n",
              "4                   Manuel Peter Neuer               GK     90.0       90.0   \n",
              "\n",
              "   ...   cdm   rdm   rwb    lb   lcb    cb   rcb    rb    gk  \\\n",
              "0  ...  62+3  62+3  62+3  54+3  45+3  45+3  45+3  54+3  15+3   \n",
              "1  ...  63+3  63+3  63+3  57+3  52+3  52+3  52+3  57+3  16+3   \n",
              "2  ...  64+3  64+3  64+3  55+3  46+3  46+3  46+3  55+3  14+3   \n",
              "3  ...  65+3  65+3  61+3  56+3  55+3  55+3  55+3  56+3  17+3   \n",
              "4  ...  40+3  40+3  36+3  36+3  38+3  38+3  38+3  36+3  87+3   \n",
              "\n",
              "                                     player_face_url  \n",
              "0  https://cdn.sofifa.net/players/158/023/15_120.png  \n",
              "1  https://cdn.sofifa.net/players/020/801/15_120.png  \n",
              "2  https://cdn.sofifa.net/players/009/014/15_120.png  \n",
              "3  https://cdn.sofifa.net/players/041/236/15_120.png  \n",
              "4  https://cdn.sofifa.net/players/167/495/15_120.png  \n",
              "\n",
              "[5 rows x 110 columns]"
            ],
            "text/html": [
              "\n",
              "  <div id=\"df-793f5c85-748e-4b02-8f9a-b0fc582d2274\" class=\"colab-df-container\">\n",
              "    <div>\n",
              "<style scoped>\n",
              "    .dataframe tbody tr th:only-of-type {\n",
              "        vertical-align: middle;\n",
              "    }\n",
              "\n",
              "    .dataframe tbody tr th {\n",
              "        vertical-align: top;\n",
              "    }\n",
              "\n",
              "    .dataframe thead th {\n",
              "        text-align: right;\n",
              "    }\n",
              "</style>\n",
              "<table border=\"1\" class=\"dataframe\">\n",
              "  <thead>\n",
              "    <tr style=\"text-align: right;\">\n",
              "      <th></th>\n",
              "      <th>player_id</th>\n",
              "      <th>player_url</th>\n",
              "      <th>fifa_version</th>\n",
              "      <th>fifa_update</th>\n",
              "      <th>fifa_update_date</th>\n",
              "      <th>short_name</th>\n",
              "      <th>long_name</th>\n",
              "      <th>player_positions</th>\n",
              "      <th>overall</th>\n",
              "      <th>potential</th>\n",
              "      <th>...</th>\n",
              "      <th>cdm</th>\n",
              "      <th>rdm</th>\n",
              "      <th>rwb</th>\n",
              "      <th>lb</th>\n",
              "      <th>lcb</th>\n",
              "      <th>cb</th>\n",
              "      <th>rcb</th>\n",
              "      <th>rb</th>\n",
              "      <th>gk</th>\n",
              "      <th>player_face_url</th>\n",
              "    </tr>\n",
              "  </thead>\n",
              "  <tbody>\n",
              "    <tr>\n",
              "      <th>0</th>\n",
              "      <td>158023</td>\n",
              "      <td>/player/158023/lionel-messi/150002</td>\n",
              "      <td>15</td>\n",
              "      <td>2</td>\n",
              "      <td>2014-09-18</td>\n",
              "      <td>L. Messi</td>\n",
              "      <td>Lionel Andrés Messi Cuccittini</td>\n",
              "      <td>CF</td>\n",
              "      <td>93.0</td>\n",
              "      <td>95.0</td>\n",
              "      <td>...</td>\n",
              "      <td>62+3</td>\n",
              "      <td>62+3</td>\n",
              "      <td>62+3</td>\n",
              "      <td>54+3</td>\n",
              "      <td>45+3</td>\n",
              "      <td>45+3</td>\n",
              "      <td>45+3</td>\n",
              "      <td>54+3</td>\n",
              "      <td>15+3</td>\n",
              "      <td>https://cdn.sofifa.net/players/158/023/15_120.png</td>\n",
              "    </tr>\n",
              "    <tr>\n",
              "      <th>1</th>\n",
              "      <td>20801</td>\n",
              "      <td>/player/20801/c-ronaldo-dos-santos-aveiro/150002</td>\n",
              "      <td>15</td>\n",
              "      <td>2</td>\n",
              "      <td>2014-09-18</td>\n",
              "      <td>Cristiano Ronaldo</td>\n",
              "      <td>Cristiano Ronaldo dos Santos Aveiro</td>\n",
              "      <td>LW, LM</td>\n",
              "      <td>92.0</td>\n",
              "      <td>92.0</td>\n",
              "      <td>...</td>\n",
              "      <td>63+3</td>\n",
              "      <td>63+3</td>\n",
              "      <td>63+3</td>\n",
              "      <td>57+3</td>\n",
              "      <td>52+3</td>\n",
              "      <td>52+3</td>\n",
              "      <td>52+3</td>\n",
              "      <td>57+3</td>\n",
              "      <td>16+3</td>\n",
              "      <td>https://cdn.sofifa.net/players/020/801/15_120.png</td>\n",
              "    </tr>\n",
              "    <tr>\n",
              "      <th>2</th>\n",
              "      <td>9014</td>\n",
              "      <td>/player/9014/arjen-robben/150002</td>\n",
              "      <td>15</td>\n",
              "      <td>2</td>\n",
              "      <td>2014-09-18</td>\n",
              "      <td>A. Robben</td>\n",
              "      <td>Arjen Robben</td>\n",
              "      <td>RM, LM, RW</td>\n",
              "      <td>90.0</td>\n",
              "      <td>90.0</td>\n",
              "      <td>...</td>\n",
              "      <td>64+3</td>\n",
              "      <td>64+3</td>\n",
              "      <td>64+3</td>\n",
              "      <td>55+3</td>\n",
              "      <td>46+3</td>\n",
              "      <td>46+3</td>\n",
              "      <td>46+3</td>\n",
              "      <td>55+3</td>\n",
              "      <td>14+3</td>\n",
              "      <td>https://cdn.sofifa.net/players/009/014/15_120.png</td>\n",
              "    </tr>\n",
              "    <tr>\n",
              "      <th>3</th>\n",
              "      <td>41236</td>\n",
              "      <td>/player/41236/zlatan-ibrahimovic/150002</td>\n",
              "      <td>15</td>\n",
              "      <td>2</td>\n",
              "      <td>2014-09-18</td>\n",
              "      <td>Z. Ibrahimović</td>\n",
              "      <td>Zlatan Ibrahimović</td>\n",
              "      <td>ST</td>\n",
              "      <td>90.0</td>\n",
              "      <td>90.0</td>\n",
              "      <td>...</td>\n",
              "      <td>65+3</td>\n",
              "      <td>65+3</td>\n",
              "      <td>61+3</td>\n",
              "      <td>56+3</td>\n",
              "      <td>55+3</td>\n",
              "      <td>55+3</td>\n",
              "      <td>55+3</td>\n",
              "      <td>56+3</td>\n",
              "      <td>17+3</td>\n",
              "      <td>https://cdn.sofifa.net/players/041/236/15_120.png</td>\n",
              "    </tr>\n",
              "    <tr>\n",
              "      <th>4</th>\n",
              "      <td>167495</td>\n",
              "      <td>/player/167495/manuel-neuer/150002</td>\n",
              "      <td>15</td>\n",
              "      <td>2</td>\n",
              "      <td>2014-09-18</td>\n",
              "      <td>M. Neuer</td>\n",
              "      <td>Manuel Peter Neuer</td>\n",
              "      <td>GK</td>\n",
              "      <td>90.0</td>\n",
              "      <td>90.0</td>\n",
              "      <td>...</td>\n",
              "      <td>40+3</td>\n",
              "      <td>40+3</td>\n",
              "      <td>36+3</td>\n",
              "      <td>36+3</td>\n",
              "      <td>38+3</td>\n",
              "      <td>38+3</td>\n",
              "      <td>38+3</td>\n",
              "      <td>36+3</td>\n",
              "      <td>87+3</td>\n",
              "      <td>https://cdn.sofifa.net/players/167/495/15_120.png</td>\n",
              "    </tr>\n",
              "  </tbody>\n",
              "</table>\n",
              "<p>5 rows × 110 columns</p>\n",
              "</div>\n",
              "    <div class=\"colab-df-buttons\">\n",
              "\n",
              "  <div class=\"colab-df-container\">\n",
              "    <button class=\"colab-df-convert\" onclick=\"convertToInteractive('df-793f5c85-748e-4b02-8f9a-b0fc582d2274')\"\n",
              "            title=\"Convert this dataframe to an interactive table.\"\n",
              "            style=\"display:none;\">\n",
              "\n",
              "  <svg xmlns=\"http://www.w3.org/2000/svg\" height=\"24px\" viewBox=\"0 -960 960 960\">\n",
              "    <path d=\"M120-120v-720h720v720H120Zm60-500h600v-160H180v160Zm220 220h160v-160H400v160Zm0 220h160v-160H400v160ZM180-400h160v-160H180v160Zm440 0h160v-160H620v160ZM180-180h160v-160H180v160Zm440 0h160v-160H620v160Z\"/>\n",
              "  </svg>\n",
              "    </button>\n",
              "\n",
              "  <style>\n",
              "    .colab-df-container {\n",
              "      display:flex;\n",
              "      gap: 12px;\n",
              "    }\n",
              "\n",
              "    .colab-df-convert {\n",
              "      background-color: #E8F0FE;\n",
              "      border: none;\n",
              "      border-radius: 50%;\n",
              "      cursor: pointer;\n",
              "      display: none;\n",
              "      fill: #1967D2;\n",
              "      height: 32px;\n",
              "      padding: 0 0 0 0;\n",
              "      width: 32px;\n",
              "    }\n",
              "\n",
              "    .colab-df-convert:hover {\n",
              "      background-color: #E2EBFA;\n",
              "      box-shadow: 0px 1px 2px rgba(60, 64, 67, 0.3), 0px 1px 3px 1px rgba(60, 64, 67, 0.15);\n",
              "      fill: #174EA6;\n",
              "    }\n",
              "\n",
              "    .colab-df-buttons div {\n",
              "      margin-bottom: 4px;\n",
              "    }\n",
              "\n",
              "    [theme=dark] .colab-df-convert {\n",
              "      background-color: #3B4455;\n",
              "      fill: #D2E3FC;\n",
              "    }\n",
              "\n",
              "    [theme=dark] .colab-df-convert:hover {\n",
              "      background-color: #434B5C;\n",
              "      box-shadow: 0px 1px 3px 1px rgba(0, 0, 0, 0.15);\n",
              "      filter: drop-shadow(0px 1px 2px rgba(0, 0, 0, 0.3));\n",
              "      fill: #FFFFFF;\n",
              "    }\n",
              "  </style>\n",
              "\n",
              "    <script>\n",
              "      const buttonEl =\n",
              "        document.querySelector('#df-793f5c85-748e-4b02-8f9a-b0fc582d2274 button.colab-df-convert');\n",
              "      buttonEl.style.display =\n",
              "        google.colab.kernel.accessAllowed ? 'block' : 'none';\n",
              "\n",
              "      async function convertToInteractive(key) {\n",
              "        const element = document.querySelector('#df-793f5c85-748e-4b02-8f9a-b0fc582d2274');\n",
              "        const dataTable =\n",
              "          await google.colab.kernel.invokeFunction('convertToInteractive',\n",
              "                                                    [key], {});\n",
              "        if (!dataTable) return;\n",
              "\n",
              "        const docLinkHtml = 'Like what you see? Visit the ' +\n",
              "          '<a target=\"_blank\" href=https://colab.research.google.com/notebooks/data_table.ipynb>data table notebook</a>'\n",
              "          + ' to learn more about interactive tables.';\n",
              "        element.innerHTML = '';\n",
              "        dataTable['output_type'] = 'display_data';\n",
              "        await google.colab.output.renderOutput(dataTable, element);\n",
              "        const docLink = document.createElement('div');\n",
              "        docLink.innerHTML = docLinkHtml;\n",
              "        element.appendChild(docLink);\n",
              "      }\n",
              "    </script>\n",
              "  </div>\n",
              "\n",
              "\n",
              "<div id=\"df-303fc86d-1aba-402d-b215-755cf71af697\">\n",
              "  <button class=\"colab-df-quickchart\" onclick=\"quickchart('df-303fc86d-1aba-402d-b215-755cf71af697')\"\n",
              "            title=\"Suggest charts\"\n",
              "            style=\"display:none;\">\n",
              "\n",
              "<svg xmlns=\"http://www.w3.org/2000/svg\" height=\"24px\"viewBox=\"0 0 24 24\"\n",
              "     width=\"24px\">\n",
              "    <g>\n",
              "        <path d=\"M19 3H5c-1.1 0-2 .9-2 2v14c0 1.1.9 2 2 2h14c1.1 0 2-.9 2-2V5c0-1.1-.9-2-2-2zM9 17H7v-7h2v7zm4 0h-2V7h2v10zm4 0h-2v-4h2v4z\"/>\n",
              "    </g>\n",
              "</svg>\n",
              "  </button>\n",
              "\n",
              "<style>\n",
              "  .colab-df-quickchart {\n",
              "      --bg-color: #E8F0FE;\n",
              "      --fill-color: #1967D2;\n",
              "      --hover-bg-color: #E2EBFA;\n",
              "      --hover-fill-color: #174EA6;\n",
              "      --disabled-fill-color: #AAA;\n",
              "      --disabled-bg-color: #DDD;\n",
              "  }\n",
              "\n",
              "  [theme=dark] .colab-df-quickchart {\n",
              "      --bg-color: #3B4455;\n",
              "      --fill-color: #D2E3FC;\n",
              "      --hover-bg-color: #434B5C;\n",
              "      --hover-fill-color: #FFFFFF;\n",
              "      --disabled-bg-color: #3B4455;\n",
              "      --disabled-fill-color: #666;\n",
              "  }\n",
              "\n",
              "  .colab-df-quickchart {\n",
              "    background-color: var(--bg-color);\n",
              "    border: none;\n",
              "    border-radius: 50%;\n",
              "    cursor: pointer;\n",
              "    display: none;\n",
              "    fill: var(--fill-color);\n",
              "    height: 32px;\n",
              "    padding: 0;\n",
              "    width: 32px;\n",
              "  }\n",
              "\n",
              "  .colab-df-quickchart:hover {\n",
              "    background-color: var(--hover-bg-color);\n",
              "    box-shadow: 0 1px 2px rgba(60, 64, 67, 0.3), 0 1px 3px 1px rgba(60, 64, 67, 0.15);\n",
              "    fill: var(--button-hover-fill-color);\n",
              "  }\n",
              "\n",
              "  .colab-df-quickchart-complete:disabled,\n",
              "  .colab-df-quickchart-complete:disabled:hover {\n",
              "    background-color: var(--disabled-bg-color);\n",
              "    fill: var(--disabled-fill-color);\n",
              "    box-shadow: none;\n",
              "  }\n",
              "\n",
              "  .colab-df-spinner {\n",
              "    border: 2px solid var(--fill-color);\n",
              "    border-color: transparent;\n",
              "    border-bottom-color: var(--fill-color);\n",
              "    animation:\n",
              "      spin 1s steps(1) infinite;\n",
              "  }\n",
              "\n",
              "  @keyframes spin {\n",
              "    0% {\n",
              "      border-color: transparent;\n",
              "      border-bottom-color: var(--fill-color);\n",
              "      border-left-color: var(--fill-color);\n",
              "    }\n",
              "    20% {\n",
              "      border-color: transparent;\n",
              "      border-left-color: var(--fill-color);\n",
              "      border-top-color: var(--fill-color);\n",
              "    }\n",
              "    30% {\n",
              "      border-color: transparent;\n",
              "      border-left-color: var(--fill-color);\n",
              "      border-top-color: var(--fill-color);\n",
              "      border-right-color: var(--fill-color);\n",
              "    }\n",
              "    40% {\n",
              "      border-color: transparent;\n",
              "      border-right-color: var(--fill-color);\n",
              "      border-top-color: var(--fill-color);\n",
              "    }\n",
              "    60% {\n",
              "      border-color: transparent;\n",
              "      border-right-color: var(--fill-color);\n",
              "    }\n",
              "    80% {\n",
              "      border-color: transparent;\n",
              "      border-right-color: var(--fill-color);\n",
              "      border-bottom-color: var(--fill-color);\n",
              "    }\n",
              "    90% {\n",
              "      border-color: transparent;\n",
              "      border-bottom-color: var(--fill-color);\n",
              "    }\n",
              "  }\n",
              "</style>\n",
              "\n",
              "  <script>\n",
              "    async function quickchart(key) {\n",
              "      const quickchartButtonEl =\n",
              "        document.querySelector('#' + key + ' button');\n",
              "      quickchartButtonEl.disabled = true;  // To prevent multiple clicks.\n",
              "      quickchartButtonEl.classList.add('colab-df-spinner');\n",
              "      try {\n",
              "        const charts = await google.colab.kernel.invokeFunction(\n",
              "            'suggestCharts', [key], {});\n",
              "      } catch (error) {\n",
              "        console.error('Error during call to suggestCharts:', error);\n",
              "      }\n",
              "      quickchartButtonEl.classList.remove('colab-df-spinner');\n",
              "      quickchartButtonEl.classList.add('colab-df-quickchart-complete');\n",
              "    }\n",
              "    (() => {\n",
              "      let quickchartButtonEl =\n",
              "        document.querySelector('#df-303fc86d-1aba-402d-b215-755cf71af697 button');\n",
              "      quickchartButtonEl.style.display =\n",
              "        google.colab.kernel.accessAllowed ? 'block' : 'none';\n",
              "    })();\n",
              "  </script>\n",
              "</div>\n",
              "\n",
              "    </div>\n",
              "  </div>\n"
            ],
            "application/vnd.google.colaboratory.intrinsic+json": {
              "type": "dataframe",
              "variable_name": "fifa_data"
            }
          },
          "metadata": {},
          "execution_count": 3
        }
      ],
      "source": [
        "fifa_data.head()"
      ]
    },
    {
      "cell_type": "code",
      "execution_count": 4,
      "id": "c4cfb26c-d90f-439e-a782-d4b9604dc732",
      "metadata": {
        "colab": {
          "base_uri": "https://localhost:8080/"
        },
        "id": "c4cfb26c-d90f-439e-a782-d4b9604dc732",
        "outputId": "b7c6f505-8a92-4178-fb06-c43cc8361443"
      },
      "outputs": [
        {
          "output_type": "stream",
          "name": "stdout",
          "text": [
            "<class 'pandas.core.frame.DataFrame'>\n",
            "RangeIndex: 5893 entries, 0 to 5892\n",
            "Columns: 110 entries, player_id to player_face_url\n",
            "dtypes: float64(60), int64(3), object(47)\n",
            "memory usage: 4.9+ MB\n"
          ]
        }
      ],
      "source": [
        "fifa_data.info()\n"
      ]
    },
    {
      "cell_type": "markdown",
      "id": "a7e470c6-e285-47e2-a944-7140dd771faa",
      "metadata": {
        "id": "a7e470c6-e285-47e2-a944-7140dd771faa"
      },
      "source": [
        "**Drop irrelevant columns**"
      ]
    },
    {
      "cell_type": "code",
      "execution_count": 5,
      "id": "e8650c58-d980-4f2d-bb90-7c7a74070200",
      "metadata": {
        "id": "e8650c58-d980-4f2d-bb90-7c7a74070200"
      },
      "outputs": [],
      "source": [
        "irrelevant_cols = [\n",
        "    'player_id', 'player_url', 'fifa_version', 'fifa_update', 'fifa_update_date',\n",
        "    'short_name', 'long_name', 'player_face_url'\n",
        "]\n",
        "fifa_data.drop(columns=irrelevant_cols, inplace=True)"
      ]
    },
    {
      "cell_type": "markdown",
      "id": "27e3ee52-cd7b-4428-ab96-5357214e392f",
      "metadata": {
        "id": "27e3ee52-cd7b-4428-ab96-5357214e392f"
      },
      "source": [
        "**Drop columns with more than 40% missing values**"
      ]
    },
    {
      "cell_type": "code",
      "execution_count": 6,
      "id": "0c6f4b58-08e0-4f01-adf6-5e0f4b7664b3",
      "metadata": {
        "id": "0c6f4b58-08e0-4f01-adf6-5e0f4b7664b3"
      },
      "outputs": [],
      "source": [
        "threshold = 0.4\n",
        "columns_to_keep = fifa_data.columns[fifa_data.isnull().mean() < threshold]\n",
        "fifa_data = fifa_data[columns_to_keep]"
      ]
    },
    {
      "cell_type": "code",
      "execution_count": 7,
      "id": "b301a66e-e10e-481d-bb95-2247b2b4e783",
      "metadata": {
        "colab": {
          "base_uri": "https://localhost:8080/"
        },
        "id": "b301a66e-e10e-481d-bb95-2247b2b4e783",
        "outputId": "3d442a21-d7ba-4043-cef3-03a65b307236"
      },
      "outputs": [
        {
          "output_type": "stream",
          "name": "stdout",
          "text": [
            "<class 'pandas.core.frame.DataFrame'>\n",
            "RangeIndex: 5893 entries, 0 to 5892\n",
            "Data columns (total 94 columns):\n",
            " #   Column                          Non-Null Count  Dtype  \n",
            "---  ------                          --------------  -----  \n",
            " 0   player_positions                5892 non-null   object \n",
            " 1   overall                         5892 non-null   float64\n",
            " 2   potential                       5892 non-null   float64\n",
            " 3   value_eur                       5730 non-null   float64\n",
            " 4   wage_eur                        5761 non-null   float64\n",
            " 5   age                             5892 non-null   float64\n",
            " 6   dob                             5892 non-null   object \n",
            " 7   height_cm                       5892 non-null   float64\n",
            " 8   weight_kg                       5892 non-null   float64\n",
            " 9   league_id                       5761 non-null   float64\n",
            " 10  league_name                     5761 non-null   object \n",
            " 11  league_level                    5758 non-null   float64\n",
            " 12  club_team_id                    5761 non-null   float64\n",
            " 13  club_name                       5761 non-null   object \n",
            " 14  club_position                   5761 non-null   object \n",
            " 15  club_jersey_number              5761 non-null   float64\n",
            " 16  club_joined_date                5336 non-null   object \n",
            " 17  club_contract_valid_until_year  5761 non-null   float64\n",
            " 18  nationality_id                  5892 non-null   float64\n",
            " 19  nationality_name                5892 non-null   object \n",
            " 20  preferred_foot                  5892 non-null   object \n",
            " 21  weak_foot                       5892 non-null   float64\n",
            " 22  skill_moves                     5892 non-null   float64\n",
            " 23  international_reputation        5892 non-null   float64\n",
            " 24  work_rate                       5892 non-null   object \n",
            " 25  body_type                       5892 non-null   object \n",
            " 26  real_face                       5892 non-null   object \n",
            " 27  player_traits                   3924 non-null   object \n",
            " 28  pace                            5324 non-null   float64\n",
            " 29  shooting                        5324 non-null   float64\n",
            " 30  passing                         5324 non-null   float64\n",
            " 31  dribbling                       5324 non-null   float64\n",
            " 32  defending                       5324 non-null   float64\n",
            " 33  physic                          5324 non-null   float64\n",
            " 34  attacking_crossing              5892 non-null   float64\n",
            " 35  attacking_finishing             5892 non-null   float64\n",
            " 36  attacking_heading_accuracy      5892 non-null   float64\n",
            " 37  attacking_short_passing         5892 non-null   float64\n",
            " 38  attacking_volleys               5892 non-null   float64\n",
            " 39  skill_dribbling                 5892 non-null   float64\n",
            " 40  skill_curve                     5892 non-null   float64\n",
            " 41  skill_fk_accuracy               5892 non-null   float64\n",
            " 42  skill_long_passing              5892 non-null   float64\n",
            " 43  skill_ball_control              5892 non-null   float64\n",
            " 44  movement_acceleration           5892 non-null   float64\n",
            " 45  movement_sprint_speed           5892 non-null   float64\n",
            " 46  movement_agility                5892 non-null   float64\n",
            " 47  movement_reactions              5892 non-null   float64\n",
            " 48  movement_balance                5892 non-null   float64\n",
            " 49  power_shot_power                5892 non-null   float64\n",
            " 50  power_jumping                   5892 non-null   float64\n",
            " 51  power_stamina                   5892 non-null   float64\n",
            " 52  power_strength                  5892 non-null   float64\n",
            " 53  power_long_shots                5892 non-null   float64\n",
            " 54  mentality_aggression            5892 non-null   float64\n",
            " 55  mentality_interceptions         5892 non-null   float64\n",
            " 56  mentality_positioning           5892 non-null   float64\n",
            " 57  mentality_vision                5892 non-null   float64\n",
            " 58  mentality_penalties             5892 non-null   float64\n",
            " 59  defending_marking_awareness     5892 non-null   float64\n",
            " 60  defending_standing_tackle       5892 non-null   float64\n",
            " 61  defending_sliding_tackle        5892 non-null   float64\n",
            " 62  goalkeeping_diving              5892 non-null   float64\n",
            " 63  goalkeeping_handling            5892 non-null   float64\n",
            " 64  goalkeeping_kicking             5892 non-null   float64\n",
            " 65  goalkeeping_positioning         5892 non-null   float64\n",
            " 66  goalkeeping_reflexes            5892 non-null   float64\n",
            " 67  ls                              5892 non-null   object \n",
            " 68  st                              5892 non-null   object \n",
            " 69  rs                              5892 non-null   object \n",
            " 70  lw                              5892 non-null   object \n",
            " 71  lf                              5892 non-null   object \n",
            " 72  cf                              5892 non-null   object \n",
            " 73  rf                              5892 non-null   object \n",
            " 74  rw                              5892 non-null   object \n",
            " 75  lam                             5892 non-null   object \n",
            " 76  cam                             5892 non-null   object \n",
            " 77  ram                             5892 non-null   object \n",
            " 78  lm                              5892 non-null   object \n",
            " 79  lcm                             5892 non-null   object \n",
            " 80  cm                              5892 non-null   object \n",
            " 81  rcm                             5892 non-null   object \n",
            " 82  rm                              5892 non-null   object \n",
            " 83  lwb                             5892 non-null   object \n",
            " 84  ldm                             5892 non-null   object \n",
            " 85  cdm                             5892 non-null   object \n",
            " 86  rdm                             5892 non-null   object \n",
            " 87  rwb                             5892 non-null   object \n",
            " 88  lb                              5892 non-null   object \n",
            " 89  lcb                             5892 non-null   object \n",
            " 90  cb                              5892 non-null   object \n",
            " 91  rcb                             5892 non-null   object \n",
            " 92  rb                              5892 non-null   object \n",
            " 93  gk                              5892 non-null   object \n",
            "dtypes: float64(55), object(39)\n",
            "memory usage: 4.2+ MB\n",
            "None\n"
          ]
        }
      ],
      "source": [
        "print(fifa_data.info())"
      ]
    },
    {
      "cell_type": "markdown",
      "id": "6760a9f0-2346-4f69-984e-265baf078018",
      "metadata": {
        "id": "6760a9f0-2346-4f69-984e-265baf078018"
      },
      "source": [
        "**Separate numeric and non-numeric features**"
      ]
    },
    {
      "cell_type": "code",
      "execution_count": 8,
      "id": "73c6f331-0f00-4e24-ba39-1328dae85847",
      "metadata": {
        "id": "73c6f331-0f00-4e24-ba39-1328dae85847"
      },
      "outputs": [],
      "source": [
        "numeric_data = fifa_data.select_dtypes(include=np.number)\n",
        "non_numeric = fifa_data.select_dtypes(include=['object'])"
      ]
    },
    {
      "cell_type": "markdown",
      "id": "Bt4T5Bq9q3ax",
      "metadata": {
        "id": "Bt4T5Bq9q3ax"
      },
      "source": [
        "**Multivariate Imputation**"
      ]
    },
    {
      "cell_type": "code",
      "execution_count": 9,
      "id": "5feed4fe-a4dd-431f-9faa-1894c872ec5b",
      "metadata": {
        "id": "5feed4fe-a4dd-431f-9faa-1894c872ec5b"
      },
      "outputs": [],
      "source": [
        "from sklearn.experimental import enable_iterative_imputer\n",
        "from sklearn.impute import IterativeImputer\n",
        "imp = IterativeImputer(max_iter=10, random_state=0)\n",
        "numeric_data = pd.DataFrame(np.round(imp.fit_transform(numeric_data)), columns=numeric_data.columns)"
      ]
    },
    {
      "cell_type": "markdown",
      "id": "bQDvQG899aiR",
      "metadata": {
        "id": "bQDvQG899aiR"
      },
      "source": [
        "**Deal with non-numeric data**"
      ]
    },
    {
      "cell_type": "code",
      "execution_count": 10,
      "id": "a1378edf-c5a7-41b6-93bb-425bf37d9ffc",
      "metadata": {
        "id": "a1378edf-c5a7-41b6-93bb-425bf37d9ffc"
      },
      "outputs": [],
      "source": [
        "non_numeric = pd.get_dummies(non_numeric).astype(int)"
      ]
    },
    {
      "cell_type": "markdown",
      "id": "D_twasfA9oFp",
      "metadata": {
        "id": "D_twasfA9oFp"
      },
      "source": [
        "**Combine numeric and non-numeric data**"
      ]
    },
    {
      "cell_type": "markdown",
      "id": "2npFt-0n9PXG",
      "metadata": {
        "id": "2npFt-0n9PXG"
      },
      "source": []
    },
    {
      "cell_type": "code",
      "execution_count": 11,
      "id": "0cf6f6af-ebf1-445a-a62e-dc5924410397",
      "metadata": {
        "id": "0cf6f6af-ebf1-445a-a62e-dc5924410397"
      },
      "outputs": [],
      "source": [
        "X = pd.concat([numeric_data, non_numeric], axis=1)"
      ]
    },
    {
      "cell_type": "markdown",
      "id": "b123a17d-84e5-4afd-bf2f-49e72c33b8fd",
      "metadata": {
        "id": "b123a17d-84e5-4afd-bf2f-49e72c33b8fd"
      },
      "source": [
        "**Separate target variable**"
      ]
    },
    {
      "cell_type": "code",
      "execution_count": 12,
      "id": "c945df5a-9333-4e50-bb08-885592db4f8d",
      "metadata": {
        "id": "c945df5a-9333-4e50-bb08-885592db4f8d"
      },
      "outputs": [],
      "source": [
        "y = X['overall']\n",
        "X = X.drop('overall', axis=1)"
      ]
    },
    {
      "cell_type": "code",
      "execution_count": 13,
      "id": "d4bdb993-7c37-4dfc-9c4f-c9be557940a4",
      "metadata": {
        "id": "d4bdb993-7c37-4dfc-9c4f-c9be557940a4"
      },
      "outputs": [],
      "source": [
        "\n",
        "column_names = X.columns\n",
        "\n",
        "scaler = StandardScaler()\n",
        "X_scaled = scaler.fit_transform(X)\n",
        "\n",
        "X_scaled = pd.DataFrame(X_scaled, columns=column_names)"
      ]
    },
    {
      "cell_type": "markdown",
      "id": "Y4d8QhEg-D8-",
      "metadata": {
        "id": "Y4d8QhEg-D8-"
      },
      "source": [
        "**Split data into train and test sets**"
      ]
    },
    {
      "cell_type": "code",
      "execution_count": 14,
      "id": "efeec474-5180-43d2-b1f7-30cd00521cc0",
      "metadata": {
        "id": "efeec474-5180-43d2-b1f7-30cd00521cc0"
      },
      "outputs": [],
      "source": [
        "X_train, X_test, y_train, y_test = train_test_split(X, y, test_size=0.2, random_state=42)"
      ]
    },
    {
      "cell_type": "code",
      "execution_count": 15,
      "id": "QwqOm6nM3_dY",
      "metadata": {
        "id": "QwqOm6nM3_dY"
      },
      "outputs": [],
      "source": [
        "X_train = X_train.loc[:, (X_train != X_train.iloc[0]).any()]\n",
        "X_test = X_test[X_train.columns]"
      ]
    },
    {
      "cell_type": "markdown",
      "id": "1cU7-uUYpoeO",
      "metadata": {
        "id": "1cU7-uUYpoeO"
      },
      "source": [
        "**Feature Importance**"
      ]
    },
    {
      "cell_type": "code",
      "execution_count": 16,
      "id": "EB7t7E33pywd",
      "metadata": {
        "id": "EB7t7E33pywd",
        "colab": {
          "base_uri": "https://localhost:8080/",
          "height": 74
        },
        "outputId": "01e34cb2-b46b-4ab9-b6c8-d372377ce6b9"
      },
      "outputs": [
        {
          "output_type": "execute_result",
          "data": {
            "text/plain": [
              "RandomForestRegressor(random_state=42)"
            ],
            "text/html": [
              "<style>#sk-container-id-1 {color: black;background-color: white;}#sk-container-id-1 pre{padding: 0;}#sk-container-id-1 div.sk-toggleable {background-color: white;}#sk-container-id-1 label.sk-toggleable__label {cursor: pointer;display: block;width: 100%;margin-bottom: 0;padding: 0.3em;box-sizing: border-box;text-align: center;}#sk-container-id-1 label.sk-toggleable__label-arrow:before {content: \"▸\";float: left;margin-right: 0.25em;color: #696969;}#sk-container-id-1 label.sk-toggleable__label-arrow:hover:before {color: black;}#sk-container-id-1 div.sk-estimator:hover label.sk-toggleable__label-arrow:before {color: black;}#sk-container-id-1 div.sk-toggleable__content {max-height: 0;max-width: 0;overflow: hidden;text-align: left;background-color: #f0f8ff;}#sk-container-id-1 div.sk-toggleable__content pre {margin: 0.2em;color: black;border-radius: 0.25em;background-color: #f0f8ff;}#sk-container-id-1 input.sk-toggleable__control:checked~div.sk-toggleable__content {max-height: 200px;max-width: 100%;overflow: auto;}#sk-container-id-1 input.sk-toggleable__control:checked~label.sk-toggleable__label-arrow:before {content: \"▾\";}#sk-container-id-1 div.sk-estimator input.sk-toggleable__control:checked~label.sk-toggleable__label {background-color: #d4ebff;}#sk-container-id-1 div.sk-label input.sk-toggleable__control:checked~label.sk-toggleable__label {background-color: #d4ebff;}#sk-container-id-1 input.sk-hidden--visually {border: 0;clip: rect(1px 1px 1px 1px);clip: rect(1px, 1px, 1px, 1px);height: 1px;margin: -1px;overflow: hidden;padding: 0;position: absolute;width: 1px;}#sk-container-id-1 div.sk-estimator {font-family: monospace;background-color: #f0f8ff;border: 1px dotted black;border-radius: 0.25em;box-sizing: border-box;margin-bottom: 0.5em;}#sk-container-id-1 div.sk-estimator:hover {background-color: #d4ebff;}#sk-container-id-1 div.sk-parallel-item::after {content: \"\";width: 100%;border-bottom: 1px solid gray;flex-grow: 1;}#sk-container-id-1 div.sk-label:hover label.sk-toggleable__label {background-color: #d4ebff;}#sk-container-id-1 div.sk-serial::before {content: \"\";position: absolute;border-left: 1px solid gray;box-sizing: border-box;top: 0;bottom: 0;left: 50%;z-index: 0;}#sk-container-id-1 div.sk-serial {display: flex;flex-direction: column;align-items: center;background-color: white;padding-right: 0.2em;padding-left: 0.2em;position: relative;}#sk-container-id-1 div.sk-item {position: relative;z-index: 1;}#sk-container-id-1 div.sk-parallel {display: flex;align-items: stretch;justify-content: center;background-color: white;position: relative;}#sk-container-id-1 div.sk-item::before, #sk-container-id-1 div.sk-parallel-item::before {content: \"\";position: absolute;border-left: 1px solid gray;box-sizing: border-box;top: 0;bottom: 0;left: 50%;z-index: -1;}#sk-container-id-1 div.sk-parallel-item {display: flex;flex-direction: column;z-index: 1;position: relative;background-color: white;}#sk-container-id-1 div.sk-parallel-item:first-child::after {align-self: flex-end;width: 50%;}#sk-container-id-1 div.sk-parallel-item:last-child::after {align-self: flex-start;width: 50%;}#sk-container-id-1 div.sk-parallel-item:only-child::after {width: 0;}#sk-container-id-1 div.sk-dashed-wrapped {border: 1px dashed gray;margin: 0 0.4em 0.5em 0.4em;box-sizing: border-box;padding-bottom: 0.4em;background-color: white;}#sk-container-id-1 div.sk-label label {font-family: monospace;font-weight: bold;display: inline-block;line-height: 1.2em;}#sk-container-id-1 div.sk-label-container {text-align: center;}#sk-container-id-1 div.sk-container {/* jupyter's `normalize.less` sets `[hidden] { display: none; }` but bootstrap.min.css set `[hidden] { display: none !important; }` so we also need the `!important` here to be able to override the default hidden behavior on the sphinx rendered scikit-learn.org. See: https://github.com/scikit-learn/scikit-learn/issues/21755 */display: inline-block !important;position: relative;}#sk-container-id-1 div.sk-text-repr-fallback {display: none;}</style><div id=\"sk-container-id-1\" class=\"sk-top-container\"><div class=\"sk-text-repr-fallback\"><pre>RandomForestRegressor(random_state=42)</pre><b>In a Jupyter environment, please rerun this cell to show the HTML representation or trust the notebook. <br />On GitHub, the HTML representation is unable to render, please try loading this page with nbviewer.org.</b></div><div class=\"sk-container\" hidden><div class=\"sk-item\"><div class=\"sk-estimator sk-toggleable\"><input class=\"sk-toggleable__control sk-hidden--visually\" id=\"sk-estimator-id-1\" type=\"checkbox\" checked><label for=\"sk-estimator-id-1\" class=\"sk-toggleable__label sk-toggleable__label-arrow\">RandomForestRegressor</label><div class=\"sk-toggleable__content\"><pre>RandomForestRegressor(random_state=42)</pre></div></div></div></div></div>"
            ]
          },
          "metadata": {},
          "execution_count": 16
        }
      ],
      "source": [
        "rf = RandomForestRegressor(n_estimators=100, random_state=42)\n",
        "rf.fit(X_train, y_train)"
      ]
    },
    {
      "cell_type": "code",
      "execution_count": 17,
      "id": "FU7dPodfvdmI",
      "metadata": {
        "id": "FU7dPodfvdmI",
        "colab": {
          "base_uri": "https://localhost:8080/"
        },
        "outputId": "7c80d08c-a58f-4882-b4bc-66144df60ff5"
      },
      "outputs": [
        {
          "output_type": "stream",
          "name": "stdout",
          "text": [
            "Best features:\n",
            "                          feature  importance\n",
            "1                       value_eur    0.811187\n",
            "2                        wage_eur    0.117989\n",
            "0                       potential    0.033816\n",
            "3                             age    0.019503\n",
            "19                      defending    0.000977\n",
            "47      defending_standing_tackle    0.000726\n",
            "42        mentality_interceptions    0.000684\n",
            "48       defending_sliding_tackle    0.000550\n",
            "14       international_reputation    0.000497\n",
            "34             movement_reactions    0.000329\n",
            "46    defending_marking_awareness    0.000288\n",
            "22            attacking_finishing    0.000261\n",
            "9588                        rb_75    0.000213\n",
            "6                       league_id    0.000197\n",
            "30             skill_ball_control    0.000161\n",
            "29             skill_long_passing    0.000160\n",
            "25              attacking_volleys    0.000150\n",
            "8                    club_team_id    0.000141\n",
            "9663                        gk_76    0.000139\n",
            "21             attacking_crossing    0.000131\n",
            "\n",
            "Excluded features: {'rb_75', 'gk_76'}\n",
            "\n",
            "Final features used:\n",
            "['league_id', 'mentality_interceptions', 'skill_ball_control', 'defending_standing_tackle', 'age', 'skill_long_passing', 'defending', 'defending_sliding_tackle', 'attacking_volleys', 'movement_reactions', 'wage_eur', 'international_reputation', 'attacking_finishing', 'potential', 'attacking_crossing', 'value_eur', 'defending_marking_awareness', 'club_team_id']\n"
          ]
        }
      ],
      "source": [
        "feature_importances = rf.feature_importances_\n",
        "feature_names = X_train.columns\n",
        "\n",
        "assert len(feature_importances) == len(feature_names), \"Mismatch between features and importances\"\n",
        "\n",
        "importance_df = pd.DataFrame({'feature': feature_names, 'importance': feature_importances})\n",
        "importance_df = importance_df.sort_values('importance', ascending=False)\n",
        "\n",
        "print(\"Best features:\")\n",
        "print(importance_df.head(20))\n",
        "\n",
        "top_features = importance_df['feature'].head(20).tolist()\n",
        "\n",
        "available_top_features = list(set(top_features) & set(fifa_data.columns))\n",
        "\n",
        "excluded_features = set(top_features) - set(available_top_features)\n",
        "print(\"\\nExcluded features:\", excluded_features)\n",
        "\n",
        "X_train = X_train[available_top_features]\n",
        "X_test = X_test[available_top_features]\n",
        "\n",
        "fifa_data_filtered = fifa_data[available_top_features + ['overall']]\n",
        "\n",
        "print(\"\\nFinal features used:\")\n",
        "print(available_top_features)"
      ]
    },
    {
      "cell_type": "markdown",
      "id": "Rni934P7-O2U",
      "metadata": {
        "id": "Rni934P7-O2U"
      },
      "source": [
        "**Define classification models**"
      ]
    },
    {
      "cell_type": "code",
      "execution_count": 18,
      "id": "954bb02b-48ad-4565-8b56-c06d457d3492",
      "metadata": {
        "id": "954bb02b-48ad-4565-8b56-c06d457d3492"
      },
      "outputs": [],
      "source": [
        "from sklearn.tree import DecisionTreeClassifier\n",
        "from sklearn.neighbors import KNeighborsClassifier\n",
        "from sklearn.svm import SVC\n",
        "from sklearn.naive_bayes import GaussianNB\n",
        "from sklearn.linear_model import LogisticRegression\n",
        "from sklearn.metrics import accuracy_score, confusion_matrix, classification_report, roc_curve, roc_auc_score, auc"
      ]
    },
    {
      "cell_type": "markdown",
      "id": "5_gjlPhC-cHS",
      "metadata": {
        "id": "5_gjlPhC-cHS"
      },
      "source": [
        "**Initialize the models**"
      ]
    },
    {
      "cell_type": "code",
      "execution_count": 19,
      "id": "d1MgxDkhCTyo",
      "metadata": {
        "id": "d1MgxDkhCTyo"
      },
      "outputs": [],
      "source": [
        "dt = DecisionTreeClassifier()\n",
        "knn = KNeighborsClassifier()\n",
        "sv = SVC(probability=True)\n",
        "nb = GaussianNB()\n",
        "LR = LogisticRegression()"
      ]
    },
    {
      "cell_type": "markdown",
      "id": "kTGK9aS4Cf1E",
      "metadata": {
        "id": "kTGK9aS4Cf1E"
      },
      "source": [
        "**Train and evaluate models**"
      ]
    },
    {
      "cell_type": "code",
      "execution_count": 20,
      "id": "99a2d770-e567-4db0-af3a-e0fa0c93ae6a",
      "metadata": {
        "id": "99a2d770-e567-4db0-af3a-e0fa0c93ae6a",
        "colab": {
          "base_uri": "https://localhost:8080/"
        },
        "outputId": "3159f9fc-6508-4b1b-c1f6-fc09673f3bab"
      },
      "outputs": [
        {
          "output_type": "stream",
          "name": "stdout",
          "text": [
            "DecisionTreeClassifier\n",
            "[[ 68   6   0   0   0   0   0   0   0   0   0   0   0   0   0   0   0   0\n",
            "    0   0   0   0   0   0]\n",
            " [  3 157   2   0   0   0   0   0   0   0   0   0   0   0   0   0   0   0\n",
            "    0   0   0   0   0   0]\n",
            " [  1   2 105  24   0   0   0   0   0   0   0   0   0   0   0   0   0   0\n",
            "    0   0   0   0   0   0]\n",
            " [  0   1  34  85   0   1   0   0   0   0   0   0   0   0   0   0   0   0\n",
            "    0   0   0   0   0   0]\n",
            " [  0   0   0   0  89  26   0   0   0   0   0   0   0   0   0   0   0   0\n",
            "    0   0   0   0   0   0]\n",
            " [  0   0   1   1  36  46   1   1   0   0   0   0   0   0   0   0   0   0\n",
            "    0   0   0   0   0   0]\n",
            " [  0   0   0   1   0   1  69  10   1   0   0   0   0   0   0   0   0   0\n",
            "    0   0   0   0   0   0]\n",
            " [  0   0   0   0   1   0  12  61   1   0   0   0   0   0   0   0   0   0\n",
            "    0   0   0   0   0   0]\n",
            " [  0   0   0   0   0   0   2   0  58  21   2   0   0   0   0   0   0   0\n",
            "    0   0   0   0   0   0]\n",
            " [  0   0   0   0   0   0   0   1  19  32   0   1   0   0   0   0   0   0\n",
            "    0   0   0   0   0   0]\n",
            " [  0   0   0   0   0   0   0   0   0   2  29   9   4   1   0   0   0   0\n",
            "    0   0   0   0   0   0]\n",
            " [  0   0   0   0   0   0   0   0   0   0   7  19   1   3   0   0   0   0\n",
            "    0   0   0   0   0   0]\n",
            " [  0   0   0   0   0   0   0   0   0   0   2   2  16  10   2   0   0   0\n",
            "    0   0   0   0   0   0]\n",
            " [  0   0   0   0   0   0   0   0   0   0   2   3   5  11   0   2   0   0\n",
            "    0   0   0   0   0   0]\n",
            " [  0   0   0   0   0   0   0   0   0   0   0   0   4   0   9   4   1   0\n",
            "    0   0   0   0   0   0]\n",
            " [  0   0   0   0   0   0   0   0   0   0   0   0   0   0   6   4   1   0\n",
            "    0   0   0   0   0   0]\n",
            " [  0   0   0   0   0   0   0   0   1   0   0   0   0   0   0   5   6   2\n",
            "    0   0   0   0   0   0]\n",
            " [  0   0   0   0   0   0   0   0   0   0   0   0   0   0   0   2   5   1\n",
            "    2   0   0   0   0   0]\n",
            " [  0   0   0   0   0   0   0   0   0   0   0   0   0   0   0   0   0   0\n",
            "    2   0   0   0   0   0]\n",
            " [  0   0   0   0   0   0   0   0   0   0   0   0   0   0   0   0   0   0\n",
            "    1   2   0   0   0   0]\n",
            " [  0   0   0   0   0   0   0   0   0   0   0   0   0   0   0   0   0   0\n",
            "    1   0   0   0   1   1]\n",
            " [  0   0   0   0   0   0   0   0   0   0   0   0   0   0   0   0   0   0\n",
            "    1   0   3   0   0   0]\n",
            " [  0   0   0   0   0   0   0   0   0   0   0   0   0   0   0   0   0   0\n",
            "    0   0   1   0   0   0]\n",
            " [  0   0   0   0   0   0   0   0   0   0   0   0   0   0   0   0   0   0\n",
            "    0   0   0   0   0   0]]\n",
            "              precision    recall  f1-score   support\n",
            "\n",
            "        66.0       0.94      0.92      0.93        74\n",
            "        67.0       0.95      0.97      0.96       162\n",
            "        68.0       0.74      0.80      0.77       132\n",
            "        69.0       0.77      0.70      0.73       121\n",
            "        70.0       0.71      0.77      0.74       115\n",
            "        71.0       0.62      0.53      0.57        86\n",
            "        72.0       0.82      0.84      0.83        82\n",
            "        73.0       0.84      0.81      0.82        75\n",
            "        74.0       0.72      0.70      0.71        83\n",
            "        75.0       0.58      0.60      0.59        53\n",
            "        76.0       0.69      0.64      0.67        45\n",
            "        77.0       0.56      0.63      0.59        30\n",
            "        78.0       0.53      0.50      0.52        32\n",
            "        79.0       0.44      0.48      0.46        23\n",
            "        80.0       0.53      0.50      0.51        18\n",
            "        81.0       0.24      0.36      0.29        11\n",
            "        82.0       0.46      0.43      0.44        14\n",
            "        83.0       0.33      0.10      0.15        10\n",
            "        84.0       0.29      1.00      0.44         2\n",
            "        85.0       1.00      0.67      0.80         3\n",
            "        86.0       0.00      0.00      0.00         3\n",
            "        87.0       0.00      0.00      0.00         4\n",
            "        88.0       0.00      0.00      0.00         1\n",
            "        89.0       0.00      0.00      0.00         0\n",
            "\n",
            "    accuracy                           0.74      1179\n",
            "   macro avg       0.53      0.54      0.52      1179\n",
            "weighted avg       0.74      0.74      0.74      1179\n",
            "\n",
            "KNeighborsClassifier\n",
            "[[ 44  17   9   4   0   0   0   0   0   0   0   0   0   0   0   0   0   0\n",
            "    0   0   0   0   0]\n",
            " [ 18 127   9   6   1   1   0   0   0   0   0   0   0   0   0   0   0   0\n",
            "    0   0   0   0   0]\n",
            " [ 16  27  70  19   0   0   0   0   0   0   0   0   0   0   0   0   0   0\n",
            "    0   0   0   0   0]\n",
            " [  5  24  66  25   1   0   0   0   0   0   0   0   0   0   0   0   0   0\n",
            "    0   0   0   0   0]\n",
            " [  1   3   5   4  66  33   1   2   0   0   0   0   0   0   0   0   0   0\n",
            "    0   0   0   0   0]\n",
            " [  0   3   5   1  47  24   1   2   2   1   0   0   0   0   0   0   0   0\n",
            "    0   0   0   0   0]\n",
            " [  0   2   5   0   7   5  56   4   2   1   0   0   0   0   0   0   0   0\n",
            "    0   0   0   0   0]\n",
            " [  0   0   0   1  10   3  15  41   2   3   0   0   0   0   0   0   0   0\n",
            "    0   0   0   0   0]\n",
            " [  1   0   0   2   1   1  15  13  37  12   1   0   0   0   0   0   0   0\n",
            "    0   0   0   0   0]\n",
            " [  0   0   0   0   0   0   5   7  26  15   0   0   0   0   0   0   0   0\n",
            "    0   0   0   0   0]\n",
            " [  0   0   0   0   0   0   0   2   3   1  23  13   2   1   0   0   0   0\n",
            "    0   0   0   0   0]\n",
            " [  0   0   0   0   1   0   1   1   0   2  16   7   2   0   0   0   0   0\n",
            "    0   0   0   0   0]\n",
            " [  0   0   0   0   0   0   0   2   3   0   3   1  13   8   2   0   0   0\n",
            "    0   0   0   0   0]\n",
            " [  1   0   0   0   1   0   0   0   1   0   4   2   7   7   0   0   0   0\n",
            "    0   0   0   0   0]\n",
            " [  0   0   0   0   1   0   0   0   0   0   0   0   2   2   6   5   2   0\n",
            "    0   0   0   0   0]\n",
            " [  0   0   0   0   0   1   0   0   0   0   1   1   0   0   4   4   0   0\n",
            "    0   0   0   0   0]\n",
            " [  0   0   0   0   0   0   0   0   0   0   0   1   0   1   1   2   8   1\n",
            "    0   0   0   0   0]\n",
            " [  0   0   0   0   0   0   0   0   0   0   0   0   0   2   2   0   6   0\n",
            "    0   0   0   0   0]\n",
            " [  0   0   0   0   0   0   0   0   0   0   0   0   0   0   0   0   1   0\n",
            "    0   1   0   0   0]\n",
            " [  0   0   0   0   0   0   0   0   0   0   0   0   0   0   0   0   0   0\n",
            "    1   2   0   0   0]\n",
            " [  0   0   0   0   0   0   0   0   0   0   0   0   0   0   0   0   0   0\n",
            "    1   0   2   0   0]\n",
            " [  0   0   0   0   0   0   0   0   0   0   0   0   0   0   0   0   0   0\n",
            "    2   0   2   0   0]\n",
            " [  0   0   0   0   0   0   0   0   0   0   0   0   0   0   0   0   0   0\n",
            "    0   0   1   0   0]]\n",
            "              precision    recall  f1-score   support\n",
            "\n",
            "        66.0       0.51      0.59      0.55        74\n",
            "        67.0       0.63      0.78      0.70       162\n",
            "        68.0       0.41      0.53      0.47       132\n",
            "        69.0       0.40      0.21      0.27       121\n",
            "        70.0       0.49      0.57      0.53       115\n",
            "        71.0       0.35      0.28      0.31        86\n",
            "        72.0       0.60      0.68      0.64        82\n",
            "        73.0       0.55      0.55      0.55        75\n",
            "        74.0       0.49      0.45      0.47        83\n",
            "        75.0       0.43      0.28      0.34        53\n",
            "        76.0       0.48      0.51      0.49        45\n",
            "        77.0       0.28      0.23      0.25        30\n",
            "        78.0       0.50      0.41      0.45        32\n",
            "        79.0       0.33      0.30      0.32        23\n",
            "        80.0       0.40      0.33      0.36        18\n",
            "        81.0       0.36      0.36      0.36        11\n",
            "        82.0       0.47      0.57      0.52        14\n",
            "        83.0       0.00      0.00      0.00        10\n",
            "        84.0       0.00      0.00      0.00         2\n",
            "        85.0       0.67      0.67      0.67         3\n",
            "        86.0       0.40      0.67      0.50         3\n",
            "        87.0       0.00      0.00      0.00         4\n",
            "        88.0       0.00      0.00      0.00         1\n",
            "\n",
            "    accuracy                           0.49      1179\n",
            "   macro avg       0.38      0.39      0.38      1179\n",
            "weighted avg       0.47      0.49      0.47      1179\n",
            "\n"
          ]
        },
        {
          "output_type": "stream",
          "name": "stderr",
          "text": [
            "/usr/local/lib/python3.10/dist-packages/sklearn/metrics/_classification.py:1344: UndefinedMetricWarning: Precision and F-score are ill-defined and being set to 0.0 in labels with no predicted samples. Use `zero_division` parameter to control this behavior.\n",
            "  _warn_prf(average, modifier, msg_start, len(result))\n",
            "/usr/local/lib/python3.10/dist-packages/sklearn/metrics/_classification.py:1344: UndefinedMetricWarning: Recall and F-score are ill-defined and being set to 0.0 in labels with no true samples. Use `zero_division` parameter to control this behavior.\n",
            "  _warn_prf(average, modifier, msg_start, len(result))\n",
            "/usr/local/lib/python3.10/dist-packages/sklearn/metrics/_classification.py:1344: UndefinedMetricWarning: Precision and F-score are ill-defined and being set to 0.0 in labels with no predicted samples. Use `zero_division` parameter to control this behavior.\n",
            "  _warn_prf(average, modifier, msg_start, len(result))\n",
            "/usr/local/lib/python3.10/dist-packages/sklearn/metrics/_classification.py:1344: UndefinedMetricWarning: Recall and F-score are ill-defined and being set to 0.0 in labels with no true samples. Use `zero_division` parameter to control this behavior.\n",
            "  _warn_prf(average, modifier, msg_start, len(result))\n",
            "/usr/local/lib/python3.10/dist-packages/sklearn/metrics/_classification.py:1344: UndefinedMetricWarning: Precision and F-score are ill-defined and being set to 0.0 in labels with no predicted samples. Use `zero_division` parameter to control this behavior.\n",
            "  _warn_prf(average, modifier, msg_start, len(result))\n",
            "/usr/local/lib/python3.10/dist-packages/sklearn/metrics/_classification.py:1344: UndefinedMetricWarning: Recall and F-score are ill-defined and being set to 0.0 in labels with no true samples. Use `zero_division` parameter to control this behavior.\n",
            "  _warn_prf(average, modifier, msg_start, len(result))\n",
            "/usr/local/lib/python3.10/dist-packages/sklearn/metrics/_classification.py:1344: UndefinedMetricWarning: Precision and F-score are ill-defined and being set to 0.0 in labels with no predicted samples. Use `zero_division` parameter to control this behavior.\n",
            "  _warn_prf(average, modifier, msg_start, len(result))\n",
            "/usr/local/lib/python3.10/dist-packages/sklearn/metrics/_classification.py:1344: UndefinedMetricWarning: Precision and F-score are ill-defined and being set to 0.0 in labels with no predicted samples. Use `zero_division` parameter to control this behavior.\n",
            "  _warn_prf(average, modifier, msg_start, len(result))\n",
            "/usr/local/lib/python3.10/dist-packages/sklearn/metrics/_classification.py:1344: UndefinedMetricWarning: Precision and F-score are ill-defined and being set to 0.0 in labels with no predicted samples. Use `zero_division` parameter to control this behavior.\n",
            "  _warn_prf(average, modifier, msg_start, len(result))\n"
          ]
        },
        {
          "output_type": "stream",
          "name": "stdout",
          "text": [
            "SVC\n",
            "[[  0  68   6   0   0   0   0   0   0   0   0   0   0   0   0   0   0   0\n",
            "    0   0   0   0   0]\n",
            " [  0 154   8   0   0   0   0   0   0   0   0   0   0   0   0   0   0   0\n",
            "    0   0   0   0   0]\n",
            " [  0  40  92   0   0   0   0   0   0   0   0   0   0   0   0   0   0   0\n",
            "    0   0   0   0   0]\n",
            " [  0  28  92   0   1   0   0   0   0   0   0   0   0   0   0   0   0   0\n",
            "    0   0   0   0   0]\n",
            " [  0   7  17   0  90   0   1   0   0   0   0   0   0   0   0   0   0   0\n",
            "    0   0   0   0   0]\n",
            " [  0   3  11   0  68   0   2   0   2   0   0   0   0   0   0   0   0   0\n",
            "    0   0   0   0   0]\n",
            " [  0   2   6   0  14   0  54   0   6   0   0   0   0   0   0   0   0   0\n",
            "    0   0   0   0   0]\n",
            " [  0   1   4   0  16   0  52   0   2   0   0   0   0   0   0   0   0   0\n",
            "    0   0   0   0   0]\n",
            " [  0   3   0   0   5   0  29   0  45   0   1   0   0   0   0   0   0   0\n",
            "    0   0   0   0   0]\n",
            " [  0   0   0   0   0   0  17   0  36   0   0   0   0   0   0   0   0   0\n",
            "    0   0   0   0   0]\n",
            " [  0   0   0   0   0   0   2   0   8   0  35   0   0   0   0   0   0   0\n",
            "    0   0   0   0   0]\n",
            " [  0   0   1   0   0   0   1   0   7   0  20   0   1   0   0   0   0   0\n",
            "    0   0   0   0   0]\n",
            " [  0   0   0   0   0   0   0   0   6   0   5   0  19   0   2   0   0   0\n",
            "    0   0   0   0   0]\n",
            " [  0   1   1   0   0   0   0   0   3   0   6   0  12   0   0   0   0   0\n",
            "    0   0   0   0   0]\n",
            " [  0   0   1   0   0   0   0   0   0   0   0   0   3   0  13   0   1   0\n",
            "    0   0   0   0   0]\n",
            " [  0   0   0   0   1   0   0   0   0   0   2   0   0   0   8   0   0   0\n",
            "    0   0   0   0   0]\n",
            " [  0   0   0   0   0   0   0   0   1   0   0   0   1   0   6   0   5   0\n",
            "    1   0   0   0   0]\n",
            " [  0   0   0   0   0   0   0   0   0   0   0   0   2   0   1   0   7   0\n",
            "    0   0   0   0   0]\n",
            " [  0   0   0   0   0   0   0   0   0   0   0   0   0   0   1   0   0   0\n",
            "    1   0   0   0   0]\n",
            " [  0   0   0   0   0   0   0   0   0   0   0   0   0   0   0   0   0   0\n",
            "    3   0   0   0   0]\n",
            " [  0   0   0   0   0   0   0   0   0   0   0   0   0   0   0   0   0   0\n",
            "    1   0   2   0   0]\n",
            " [  0   0   0   0   0   0   0   0   0   0   0   0   0   0   0   0   0   0\n",
            "    1   0   3   0   0]\n",
            " [  0   0   0   0   0   0   0   0   0   0   0   0   0   0   0   0   0   0\n",
            "    0   0   1   0   0]]\n",
            "              precision    recall  f1-score   support\n",
            "\n",
            "        66.0       0.00      0.00      0.00        74\n",
            "        67.0       0.50      0.95      0.66       162\n",
            "        68.0       0.38      0.70      0.50       132\n",
            "        69.0       0.00      0.00      0.00       121\n",
            "        70.0       0.46      0.78      0.58       115\n",
            "        71.0       0.00      0.00      0.00        86\n",
            "        72.0       0.34      0.66      0.45        82\n",
            "        73.0       0.00      0.00      0.00        75\n",
            "        74.0       0.39      0.54      0.45        83\n",
            "        75.0       0.00      0.00      0.00        53\n",
            "        76.0       0.51      0.78      0.61        45\n",
            "        77.0       0.00      0.00      0.00        30\n",
            "        78.0       0.50      0.59      0.54        32\n",
            "        79.0       0.00      0.00      0.00        23\n",
            "        80.0       0.42      0.72      0.53        18\n",
            "        81.0       0.00      0.00      0.00        11\n",
            "        82.0       0.38      0.36      0.37        14\n",
            "        83.0       0.00      0.00      0.00        10\n",
            "        84.0       0.14      0.50      0.22         2\n",
            "        85.0       0.00      0.00      0.00         3\n",
            "        86.0       0.33      0.67      0.44         3\n",
            "        87.0       0.00      0.00      0.00         4\n",
            "        88.0       0.00      0.00      0.00         1\n",
            "\n",
            "    accuracy                           0.43      1179\n",
            "   macro avg       0.19      0.32      0.23      1179\n",
            "weighted avg       0.25      0.43      0.32      1179\n",
            "\n",
            "GaussianNB\n",
            "[[ 14  49  11   0   0   0   0   0   0   0   0   0   0   0   0   0   0   0\n",
            "    0   0   0   0   0]\n",
            " [ 17 118  25   2   0   0   0   0   0   0   0   0   0   0   0   0   0   0\n",
            "    0   0   0   0   0]\n",
            " [ 12  21  76  23   0   0   0   0   0   0   0   0   0   0   0   0   0   0\n",
            "    0   0   0   0   0]\n",
            " [  6  17  53  44   1   0   0   0   0   0   0   0   0   0   0   0   0   0\n",
            "    0   0   0   0   0]\n",
            " [  1   2   1   7  73  19   9   3   0   0   0   0   0   0   0   0   0   0\n",
            "    0   0   0   0   0]\n",
            " [  1   2   2   4  52  11   7   4   3   0   0   0   0   0   0   0   0   0\n",
            "    0   0   0   0   0]\n",
            " [  0   0   0   4  11   4  58   2   3   0   0   0   0   0   0   0   0   0\n",
            "    0   0   0   0   0]\n",
            " [  0   0   0   0   5   5  12  45   7   0   0   1   0   0   0   0   0   0\n",
            "    0   0   0   0   0]\n",
            " [  0   0   0   0   1   3  10  20  46   0   3   0   0   0   0   0   0   0\n",
            "    0   0   0   0   0]\n",
            " [  0   0   0   0   0   0   3  11  37   0   2   0   0   0   0   0   0   0\n",
            "    0   0   0   0   0]\n",
            " [  0   0   0   0   0   0   0   2   4   0  26   5   2   6   0   0   0   0\n",
            "    0   0   0   0   0]\n",
            " [  0   0   0   0   0   1   1   1   1   0  20   2   2   2   0   0   0   0\n",
            "    0   0   0   0   0]\n",
            " [  0   0   0   0   0   0   0   0   4   0   5   0  11   8   3   1   0   0\n",
            "    0   0   0   0   0]\n",
            " [  0   0   0   0   0   0   0   1   0   0   4   3   4   9   0   2   0   0\n",
            "    0   0   0   0   0]\n",
            " [  0   0   0   0   0   0   0   1   0   0   0   0   1   3   4   8   1   0\n",
            "    0   0   0   0   0]\n",
            " [  0   0   0   0   0   0   0   0   0   0   2   1   0   0   1   7   0   0\n",
            "    0   0   0   0   0]\n",
            " [  0   0   0   0   0   0   0   0   0   0   1   0   0   1   0   4   1   0\n",
            "    7   0   0   0   0]\n",
            " [  0   0   0   0   0   0   0   0   0   0   0   0   0   2   0   0   3   0\n",
            "    5   0   0   0   0]\n",
            " [  0   0   0   0   0   0   0   0   0   0   0   0   0   0   0   0   0   0\n",
            "    2   0   0   0   0]\n",
            " [  0   0   0   0   0   0   0   0   0   0   0   0   0   0   0   0   0   0\n",
            "    2   1   0   0   0]\n",
            " [  0   0   0   0   0   0   0   0   0   0   0   0   0   0   0   0   0   0\n",
            "    0   1   1   0   1]\n",
            " [  0   0   0   0   0   0   0   0   0   0   0   0   0   0   0   0   0   0\n",
            "    0   1   1   1   1]\n",
            " [  0   0   0   0   0   0   0   0   0   0   0   0   0   0   0   0   0   0\n",
            "    0   0   1   0   0]]\n",
            "              precision    recall  f1-score   support\n",
            "\n",
            "        66.0       0.27      0.19      0.22        74\n",
            "        67.0       0.56      0.73      0.64       162\n",
            "        68.0       0.45      0.58      0.51       132\n",
            "        69.0       0.52      0.36      0.43       121\n",
            "        70.0       0.51      0.63      0.57       115\n",
            "        71.0       0.26      0.13      0.17        86\n",
            "        72.0       0.58      0.71      0.64        82\n",
            "        73.0       0.50      0.60      0.55        75\n",
            "        74.0       0.44      0.55      0.49        83\n",
            "        75.0       0.00      0.00      0.00        53\n",
            "        76.0       0.41      0.58      0.48        45\n",
            "        77.0       0.17      0.07      0.10        30\n",
            "        78.0       0.55      0.34      0.42        32\n",
            "        79.0       0.29      0.39      0.33        23\n",
            "        80.0       0.50      0.22      0.31        18\n",
            "        81.0       0.32      0.64      0.42        11\n",
            "        82.0       0.20      0.07      0.11        14\n",
            "        83.0       0.00      0.00      0.00        10\n",
            "        84.0       0.12      1.00      0.22         2\n",
            "        85.0       0.33      0.33      0.33         3\n",
            "        86.0       0.33      0.33      0.33         3\n",
            "        87.0       1.00      0.25      0.40         4\n",
            "        88.0       0.00      0.00      0.00         1\n",
            "\n",
            "    accuracy                           0.47      1179\n",
            "   macro avg       0.36      0.38      0.33      1179\n",
            "weighted avg       0.43      0.47      0.44      1179\n",
            "\n"
          ]
        },
        {
          "output_type": "stream",
          "name": "stderr",
          "text": [
            "/usr/local/lib/python3.10/dist-packages/sklearn/metrics/_classification.py:1344: UndefinedMetricWarning: Precision and F-score are ill-defined and being set to 0.0 in labels with no predicted samples. Use `zero_division` parameter to control this behavior.\n",
            "  _warn_prf(average, modifier, msg_start, len(result))\n",
            "/usr/local/lib/python3.10/dist-packages/sklearn/metrics/_classification.py:1344: UndefinedMetricWarning: Precision and F-score are ill-defined and being set to 0.0 in labels with no predicted samples. Use `zero_division` parameter to control this behavior.\n",
            "  _warn_prf(average, modifier, msg_start, len(result))\n",
            "/usr/local/lib/python3.10/dist-packages/sklearn/metrics/_classification.py:1344: UndefinedMetricWarning: Precision and F-score are ill-defined and being set to 0.0 in labels with no predicted samples. Use `zero_division` parameter to control this behavior.\n",
            "  _warn_prf(average, modifier, msg_start, len(result))\n",
            "/usr/local/lib/python3.10/dist-packages/sklearn/metrics/_classification.py:1344: UndefinedMetricWarning: Precision and F-score are ill-defined and being set to 0.0 in labels with no predicted samples. Use `zero_division` parameter to control this behavior.\n",
            "  _warn_prf(average, modifier, msg_start, len(result))\n",
            "/usr/local/lib/python3.10/dist-packages/sklearn/metrics/_classification.py:1344: UndefinedMetricWarning: Precision and F-score are ill-defined and being set to 0.0 in labels with no predicted samples. Use `zero_division` parameter to control this behavior.\n",
            "  _warn_prf(average, modifier, msg_start, len(result))\n",
            "/usr/local/lib/python3.10/dist-packages/sklearn/metrics/_classification.py:1344: UndefinedMetricWarning: Precision and F-score are ill-defined and being set to 0.0 in labels with no predicted samples. Use `zero_division` parameter to control this behavior.\n",
            "  _warn_prf(average, modifier, msg_start, len(result))\n"
          ]
        },
        {
          "output_type": "stream",
          "name": "stdout",
          "text": [
            "LogisticRegression\n",
            "[[ 1  0  0 23  1  0  2  6 41  0  0  0  0  0  0  0  0  0  0  0  0  0  0]\n",
            " [ 2  0  0 64  4  0  2 53 37  0  0  0  0  0  0  0  0  0  0  0  0  0  0]\n",
            " [ 1  0  0 57  1  0  1 13 59  0  0  0  0  0  0  0  0  0  0  0  0  0  0]\n",
            " [ 0  1  0 40  2  0  2 31 44  0  0  0  0  0  1  0  0  0  0  0  0  0  0]\n",
            " [ 1  0  0 33  2  0  0 50 29  0  0  0  0  0  0  0  0  0  0  0  0  0  0]\n",
            " [ 0  0  0 24  5  0  1 39 17  0  0  0  0  0  0  0  0  0  0  0  0  0  0]\n",
            " [ 0  0  3 15  2  0  0  8 54  0  0  0  0  0  0  0  0  0  0  0  0  0  0]\n",
            " [ 0  1  0  8  9  0  1 45 11  0  0  0  0  0  0  0  0  0  0  0  0  0  0]\n",
            " [ 1  0  0  3 16  0  0 23 40  0  0  0  0  0  0  0  0  0  0  0  0  0  0]\n",
            " [ 0  0  1  1  6  0  0 16 29  0  0  0  0  0  0  0  0  0  0  0  0  0  0]\n",
            " [ 0  0  0  0  3  0  0 16 26  0  0  0  0  0  0  0  0  0  0  0  0  0  0]\n",
            " [ 0  0  1  0  4  0  0 14 11  0  0  0  0  0  0  0  0  0  0  0  0  0  0]\n",
            " [ 0  0  1  0  4  0  0  3 24  0  0  0  0  0  0  0  0  0  0  0  0  0  0]\n",
            " [ 0  0  0  0  2  0  0  7 14  0  0  0  0  0  0  0  0  0  0  0  0  0  0]\n",
            " [ 0  0  0  0  0  0  0  1 16  0  0  0  0  0  1  0  0  0  0  0  0  0  0]\n",
            " [ 0  0  0  0  0  0  0  2  9  0  0  0  0  0  0  0  0  0  0  0  0  0  0]\n",
            " [ 0  0  0  0  0  0  0  2 11  0  0  0  0  0  1  0  0  0  0  0  0  0  0]\n",
            " [ 0  0  0  0  0  0  0  0 10  0  0  0  0  0  0  0  0  0  0  0  0  0  0]\n",
            " [ 0  0  0  0  0  0  0  0  2  0  0  0  0  0  0  0  0  0  0  0  0  0  0]\n",
            " [ 0  0  0  0  0  0  0  0  3  0  0  0  0  0  0  0  0  0  0  0  0  0  0]\n",
            " [ 0  0  0  0  0  0  0  0  2  0  0  0  0  0  1  0  0  0  0  0  0  0  0]\n",
            " [ 0  0  0  0  0  0  0  0  4  0  0  0  0  0  0  0  0  0  0  0  0  0  0]\n",
            " [ 0  0  0  0  0  0  0  0  0  0  0  0  0  0  1  0  0  0  0  0  0  0  0]]\n",
            "              precision    recall  f1-score   support\n",
            "\n",
            "        66.0       0.17      0.01      0.03        74\n",
            "        67.0       0.00      0.00      0.00       162\n",
            "        68.0       0.00      0.00      0.00       132\n",
            "        69.0       0.15      0.33      0.21       121\n",
            "        70.0       0.03      0.02      0.02       115\n",
            "        71.0       0.00      0.00      0.00        86\n",
            "        72.0       0.00      0.00      0.00        82\n",
            "        73.0       0.14      0.60      0.22        75\n",
            "        74.0       0.08      0.48      0.14        83\n",
            "        75.0       0.00      0.00      0.00        53\n",
            "        76.0       0.00      0.00      0.00        45\n",
            "        77.0       0.00      0.00      0.00        30\n",
            "        78.0       0.00      0.00      0.00        32\n",
            "        79.0       0.00      0.00      0.00        23\n",
            "        80.0       0.20      0.06      0.09        18\n",
            "        81.0       0.00      0.00      0.00        11\n",
            "        82.0       0.00      0.00      0.00        14\n",
            "        83.0       0.00      0.00      0.00        10\n",
            "        84.0       0.00      0.00      0.00         2\n",
            "        85.0       0.00      0.00      0.00         3\n",
            "        86.0       0.00      0.00      0.00         3\n",
            "        87.0       0.00      0.00      0.00         4\n",
            "        88.0       0.00      0.00      0.00         1\n",
            "\n",
            "    accuracy                           0.11      1179\n",
            "   macro avg       0.03      0.07      0.03      1179\n",
            "weighted avg       0.05      0.11      0.05      1179\n",
            "\n"
          ]
        },
        {
          "output_type": "stream",
          "name": "stderr",
          "text": [
            "/usr/local/lib/python3.10/dist-packages/sklearn/linear_model/_logistic.py:458: ConvergenceWarning: lbfgs failed to converge (status=1):\n",
            "STOP: TOTAL NO. of ITERATIONS REACHED LIMIT.\n",
            "\n",
            "Increase the number of iterations (max_iter) or scale the data as shown in:\n",
            "    https://scikit-learn.org/stable/modules/preprocessing.html\n",
            "Please also refer to the documentation for alternative solver options:\n",
            "    https://scikit-learn.org/stable/modules/linear_model.html#logistic-regression\n",
            "  n_iter_i = _check_optimize_result(\n",
            "/usr/local/lib/python3.10/dist-packages/sklearn/metrics/_classification.py:1344: UndefinedMetricWarning: Precision and F-score are ill-defined and being set to 0.0 in labels with no predicted samples. Use `zero_division` parameter to control this behavior.\n",
            "  _warn_prf(average, modifier, msg_start, len(result))\n",
            "/usr/local/lib/python3.10/dist-packages/sklearn/metrics/_classification.py:1344: UndefinedMetricWarning: Precision and F-score are ill-defined and being set to 0.0 in labels with no predicted samples. Use `zero_division` parameter to control this behavior.\n",
            "  _warn_prf(average, modifier, msg_start, len(result))\n",
            "/usr/local/lib/python3.10/dist-packages/sklearn/metrics/_classification.py:1344: UndefinedMetricWarning: Precision and F-score are ill-defined and being set to 0.0 in labels with no predicted samples. Use `zero_division` parameter to control this behavior.\n",
            "  _warn_prf(average, modifier, msg_start, len(result))\n"
          ]
        }
      ],
      "source": [
        "for model in (dt, knn, sv, nb, LR):\n",
        "    model.fit(X_train, y_train)\n",
        "    y_pred = model.predict(X_test)\n",
        "    print(model.__class__.__name__)\n",
        "    print(confusion_matrix(y_test, y_pred))\n",
        "    print(classification_report(y_test, y_pred))"
      ]
    },
    {
      "cell_type": "markdown",
      "id": "7a42eb96-4cae-4d04-86a7-cbd635bfe545",
      "metadata": {
        "id": "7a42eb96-4cae-4d04-86a7-cbd635bfe545"
      },
      "source": [
        "**hard voting**\n"
      ]
    },
    {
      "cell_type": "code",
      "execution_count": 21,
      "id": "03b72d64-dba1-4a52-a952-43268c7ab229",
      "metadata": {
        "id": "03b72d64-dba1-4a52-a952-43268c7ab229",
        "colab": {
          "base_uri": "https://localhost:8080/"
        },
        "outputId": "444503c1-f1e1-433b-d51c-7a00cd379969"
      },
      "outputs": [
        {
          "output_type": "stream",
          "name": "stderr",
          "text": [
            "/usr/local/lib/python3.10/dist-packages/sklearn/linear_model/_logistic.py:458: ConvergenceWarning: lbfgs failed to converge (status=1):\n",
            "STOP: TOTAL NO. of ITERATIONS REACHED LIMIT.\n",
            "\n",
            "Increase the number of iterations (max_iter) or scale the data as shown in:\n",
            "    https://scikit-learn.org/stable/modules/preprocessing.html\n",
            "Please also refer to the documentation for alternative solver options:\n",
            "    https://scikit-learn.org/stable/modules/linear_model.html#logistic-regression\n",
            "  n_iter_i = _check_optimize_result(\n"
          ]
        },
        {
          "output_type": "stream",
          "name": "stdout",
          "text": [
            "VotingClassifier\n",
            "[[ 48  20   5   1   0   0   0   0   0   0   0   0   0   0   0   0   0   0\n",
            "    0   0   0   0   0]\n",
            " [  9 149   4   0   0   0   0   0   0   0   0   0   0   0   0   0   0   0\n",
            "    0   0   0   0   0]\n",
            " [  6  28  93   5   0   0   0   0   0   0   0   0   0   0   0   0   0   0\n",
            "    0   0   0   0   0]\n",
            " [  2  23  77  18   1   0   0   0   0   0   0   0   0   0   0   0   0   0\n",
            "    0   0   0   0   0]\n",
            " [  1   5   2   5  95   4   1   2   0   0   0   0   0   0   0   0   0   0\n",
            "    0   0   0   0   0]\n",
            " [  0   3   5   2  63   9   2   0   2   0   0   0   0   0   0   0   0   0\n",
            "    0   0   0   0   0]\n",
            " [  0   2   6   0  10   1  59   2   2   0   0   0   0   0   0   0   0   0\n",
            "    0   0   0   0   0]\n",
            " [  0   0   0   1   9   0  16  48   1   0   0   0   0   0   0   0   0   0\n",
            "    0   0   0   0   0]\n",
            " [  1   2   0   0   2   0  13  14  49   1   1   0   0   0   0   0   0   0\n",
            "    0   0   0   0   0]\n",
            " [  0   0   0   0   0   0   4   8  39   2   0   0   0   0   0   0   0   0\n",
            "    0   0   0   0   0]\n",
            " [  0   0   0   0   0   0   0   2   6   0  32   3   1   1   0   0   0   0\n",
            "    0   0   0   0   0]\n",
            " [  0   0   1   0   0   0   1   1   2   0  20   3   2   0   0   0   0   0\n",
            "    0   0   0   0   0]\n",
            " [  0   0   0   0   1   0   0   0   4   0   3   1  15   6   2   0   0   0\n",
            "    0   0   0   0   0]\n",
            " [  1   0   0   0   0   0   0   1   1   0   6   0   7   7   0   0   0   0\n",
            "    0   0   0   0   0]\n",
            " [  0   0   0   0   0   0   0   1   2   0   0   0   2   1   9   2   1   0\n",
            "    0   0   0   0   0]\n",
            " [  0   0   0   0   1   0   0   0   0   0   2   0   0   0   5   3   0   0\n",
            "    0   0   0   0   0]\n",
            " [  0   0   0   0   0   0   0   0   5   0   0   0   0   1   1   1   5   1\n",
            "    0   0   0   0   0]\n",
            " [  0   0   0   0   0   0   0   0   0   0   0   0   0   2   0   0   6   0\n",
            "    2   0   0   0   0]\n",
            " [  0   0   0   0   0   0   0   0   1   0   0   0   0   0   0   0   0   0\n",
            "    1   0   0   0   0]\n",
            " [  0   0   0   0   0   0   0   0   0   0   0   0   0   0   0   0   0   0\n",
            "    3   0   0   0   0]\n",
            " [  0   0   0   0   0   0   0   0   0   0   0   0   0   0   0   0   0   0\n",
            "    1   0   2   0   0]\n",
            " [  0   0   0   0   0   0   0   0   0   0   0   0   0   0   0   0   0   0\n",
            "    1   0   3   0   0]\n",
            " [  0   0   0   0   0   0   0   0   0   0   0   0   0   0   0   0   0   0\n",
            "    0   0   1   0   0]]\n",
            "              precision    recall  f1-score   support\n",
            "\n",
            "        66.0       0.71      0.65      0.68        74\n",
            "        67.0       0.64      0.92      0.76       162\n",
            "        68.0       0.48      0.70      0.57       132\n",
            "        69.0       0.56      0.15      0.24       121\n",
            "        70.0       0.52      0.83      0.64       115\n",
            "        71.0       0.64      0.10      0.18        86\n",
            "        72.0       0.61      0.72      0.66        82\n",
            "        73.0       0.61      0.64      0.62        75\n",
            "        74.0       0.43      0.59      0.50        83\n",
            "        75.0       0.67      0.04      0.07        53\n",
            "        76.0       0.50      0.71      0.59        45\n",
            "        77.0       0.43      0.10      0.16        30\n",
            "        78.0       0.56      0.47      0.51        32\n",
            "        79.0       0.39      0.30      0.34        23\n",
            "        80.0       0.53      0.50      0.51        18\n",
            "        81.0       0.50      0.27      0.35        11\n",
            "        82.0       0.42      0.36      0.38        14\n",
            "        83.0       0.00      0.00      0.00        10\n",
            "        84.0       0.12      0.50      0.20         2\n",
            "        85.0       0.00      0.00      0.00         3\n",
            "        86.0       0.33      0.67      0.44         3\n",
            "        87.0       0.00      0.00      0.00         4\n",
            "        88.0       0.00      0.00      0.00         1\n",
            "\n",
            "    accuracy                           0.55      1179\n",
            "   macro avg       0.42      0.40      0.37      1179\n",
            "weighted avg       0.56      0.55      0.50      1179\n",
            "\n"
          ]
        },
        {
          "output_type": "stream",
          "name": "stderr",
          "text": [
            "/usr/local/lib/python3.10/dist-packages/sklearn/metrics/_classification.py:1344: UndefinedMetricWarning: Precision and F-score are ill-defined and being set to 0.0 in labels with no predicted samples. Use `zero_division` parameter to control this behavior.\n",
            "  _warn_prf(average, modifier, msg_start, len(result))\n",
            "/usr/local/lib/python3.10/dist-packages/sklearn/metrics/_classification.py:1344: UndefinedMetricWarning: Precision and F-score are ill-defined and being set to 0.0 in labels with no predicted samples. Use `zero_division` parameter to control this behavior.\n",
            "  _warn_prf(average, modifier, msg_start, len(result))\n",
            "/usr/local/lib/python3.10/dist-packages/sklearn/metrics/_classification.py:1344: UndefinedMetricWarning: Precision and F-score are ill-defined and being set to 0.0 in labels with no predicted samples. Use `zero_division` parameter to control this behavior.\n",
            "  _warn_prf(average, modifier, msg_start, len(result))\n"
          ]
        }
      ],
      "source": [
        "from sklearn.ensemble import VotingClassifier\n",
        "voting = VotingClassifier(estimators=[('dt', dt), ('knn', knn), ('sv', sv), ('nb', nb), ('LR', LR)], voting='hard')\n",
        "voting.fit(X_train, y_train)\n",
        "y_pred = voting.predict(X_test)\n",
        "print(voting.__class__.__name__)\n",
        "print(confusion_matrix(y_test, y_pred))\n",
        "print(classification_report(y_test, y_pred))"
      ]
    },
    {
      "cell_type": "markdown",
      "id": "ReD8bhTRHBCg",
      "metadata": {
        "id": "ReD8bhTRHBCg"
      },
      "source": [
        "**soft voting**"
      ]
    },
    {
      "cell_type": "code",
      "execution_count": 22,
      "id": "89BbNesDGS_v",
      "metadata": {
        "id": "89BbNesDGS_v",
        "colab": {
          "base_uri": "https://localhost:8080/"
        },
        "outputId": "be2db230-d476-4c58-e998-683cdb0fc0e0"
      },
      "outputs": [
        {
          "output_type": "stream",
          "name": "stderr",
          "text": [
            "/usr/local/lib/python3.10/dist-packages/sklearn/linear_model/_logistic.py:458: ConvergenceWarning: lbfgs failed to converge (status=1):\n",
            "STOP: TOTAL NO. of ITERATIONS REACHED LIMIT.\n",
            "\n",
            "Increase the number of iterations (max_iter) or scale the data as shown in:\n",
            "    https://scikit-learn.org/stable/modules/preprocessing.html\n",
            "Please also refer to the documentation for alternative solver options:\n",
            "    https://scikit-learn.org/stable/modules/linear_model.html#logistic-regression\n",
            "  n_iter_i = _check_optimize_result(\n"
          ]
        },
        {
          "output_type": "stream",
          "name": "stdout",
          "text": [
            "VotingClassifier\n",
            "[[ 61  11   1   1   0   0   0   0   0   0   0   0   0   0   0   0   0   0\n",
            "    0   0   0   0   0]\n",
            " [  2 158   2   0   0   0   0   0   0   0   0   0   0   0   0   0   0   0\n",
            "    0   0   0   0   0]\n",
            " [  4  13  98  17   0   0   0   0   0   0   0   0   0   0   0   0   0   0\n",
            "    0   0   0   0   0]\n",
            " [  1   4  40  75   0   1   0   0   0   0   0   0   0   0   0   0   0   0\n",
            "    0   0   0   0   0]\n",
            " [  1   3   3   1  85  21   1   0   0   0   0   0   0   0   0   0   0   0\n",
            "    0   0   0   0   0]\n",
            " [  0   2   2   2  34  43   0   0   2   1   0   0   0   0   0   0   0   0\n",
            "    0   0   0   0   0]\n",
            " [  0   0   3   0   3   2  72   2   0   0   0   0   0   0   0   0   0   0\n",
            "    0   0   0   0   0]\n",
            " [  0   0   0   0   3   0   9  60   3   0   0   0   0   0   0   0   0   0\n",
            "    0   0   0   0   0]\n",
            " [  0   1   0   0   0   0   7   6  52  16   1   0   0   0   0   0   0   0\n",
            "    0   0   0   0   0]\n",
            " [  0   0   0   0   0   0   1   5  21  26   0   0   0   0   0   0   0   0\n",
            "    0   0   0   0   0]\n",
            " [  0   0   0   0   0   0   0   2   1   1  27  11   3   0   0   0   0   0\n",
            "    0   0   0   0   0]\n",
            " [  0   0   0   0   1   0   0   1   1   0  10  14   1   2   0   0   0   0\n",
            "    0   0   0   0   0]\n",
            " [  0   0   0   0   0   0   0   1   3   0   1   2  14   8   3   0   0   0\n",
            "    0   0   0   0   0]\n",
            " [  0   0   0   0   1   0   0   0   0   1   3   2   3  13   0   0   0   0\n",
            "    0   0   0   0   0]\n",
            " [  0   0   0   0   1   0   0   0   0   0   0   0   1   1  10   4   1   0\n",
            "    0   0   0   0   0]\n",
            " [  0   0   0   0   0   0   0   0   0   0   1   1   0   0   5   4   0   0\n",
            "    0   0   0   0   0]\n",
            " [  0   0   0   0   0   0   0   0   0   0   0   1   0   1   0   4   6   2\n",
            "    0   0   0   0   0]\n",
            " [  0   0   0   0   0   0   0   0   0   0   0   0   0   2   0   0   5   1\n",
            "    2   0   0   0   0]\n",
            " [  0   0   0   0   0   0   0   0   0   0   0   0   0   0   0   0   0   0\n",
            "    2   0   0   0   0]\n",
            " [  0   0   0   0   0   0   0   0   0   0   0   0   0   0   0   0   0   0\n",
            "    1   2   0   0   0]\n",
            " [  0   0   0   0   0   0   0   0   0   0   0   0   0   0   0   0   0   0\n",
            "    1   0   1   0   1]\n",
            " [  0   0   0   0   0   0   0   0   0   0   0   0   0   0   0   0   0   0\n",
            "    1   0   2   1   0]\n",
            " [  0   0   0   0   0   0   0   0   0   0   0   0   0   0   0   0   0   0\n",
            "    0   0   1   0   0]]\n",
            "              precision    recall  f1-score   support\n",
            "\n",
            "        66.0       0.88      0.82      0.85        74\n",
            "        67.0       0.82      0.98      0.89       162\n",
            "        68.0       0.66      0.74      0.70       132\n",
            "        69.0       0.78      0.62      0.69       121\n",
            "        70.0       0.66      0.74      0.70       115\n",
            "        71.0       0.64      0.50      0.56        86\n",
            "        72.0       0.80      0.88      0.84        82\n",
            "        73.0       0.78      0.80      0.79        75\n",
            "        74.0       0.63      0.63      0.63        83\n",
            "        75.0       0.58      0.49      0.53        53\n",
            "        76.0       0.63      0.60      0.61        45\n",
            "        77.0       0.45      0.47      0.46        30\n",
            "        78.0       0.64      0.44      0.52        32\n",
            "        79.0       0.48      0.57      0.52        23\n",
            "        80.0       0.56      0.56      0.56        18\n",
            "        81.0       0.33      0.36      0.35        11\n",
            "        82.0       0.50      0.43      0.46        14\n",
            "        83.0       0.33      0.10      0.15        10\n",
            "        84.0       0.29      1.00      0.44         2\n",
            "        85.0       1.00      0.67      0.80         3\n",
            "        86.0       0.25      0.33      0.29         3\n",
            "        87.0       1.00      0.25      0.40         4\n",
            "        88.0       0.00      0.00      0.00         1\n",
            "\n",
            "    accuracy                           0.70      1179\n",
            "   macro avg       0.60      0.56      0.55      1179\n",
            "weighted avg       0.70      0.70      0.69      1179\n",
            "\n"
          ]
        }
      ],
      "source": [
        "soft_voting = VotingClassifier(estimators=[('dt', dt), ('knn', knn), ('sv', sv), ('nb', nb), ('LR', LR)], voting='soft')\n",
        "soft_voting.fit(X_train, y_train)\n",
        "y_pred = soft_voting.predict(X_test)\n",
        "print(soft_voting.__class__.__name__)\n",
        "print(confusion_matrix(y_test, y_pred))\n",
        "print(classification_report(y_test, y_pred))"
      ]
    },
    {
      "cell_type": "markdown",
      "id": "YOjo2MbLG6Vu",
      "metadata": {
        "id": "YOjo2MbLG6Vu"
      },
      "source": [
        "**RandomForest classifier**"
      ]
    },
    {
      "cell_type": "code",
      "execution_count": 23,
      "id": "5vJ5pb4fLdxJ",
      "metadata": {
        "id": "5vJ5pb4fLdxJ",
        "colab": {
          "base_uri": "https://localhost:8080/"
        },
        "outputId": "65e1ca45-5a34-4720-9465-95ff19d66f66"
      },
      "outputs": [
        {
          "output_type": "stream",
          "name": "stdout",
          "text": [
            "RandomForestClassifier\n",
            "[[ 59  15   0   0   0   0   0   0   0   0   0   0   0   0   0   0   0   0\n",
            "    0   0   0   0   0]\n",
            " [  1 160   1   0   0   0   0   0   0   0   0   0   0   0   0   0   0   0\n",
            "    0   0   0   0   0]\n",
            " [  0   5 116  11   0   0   0   0   0   0   0   0   0   0   0   0   0   0\n",
            "    0   0   0   0   0]\n",
            " [  0   2  42  76   1   0   0   0   0   0   0   0   0   0   0   0   0   0\n",
            "    0   0   0   0   0]\n",
            " [  0   0   0   2  92  21   0   0   0   0   0   0   0   0   0   0   0   0\n",
            "    0   0   0   0   0]\n",
            " [  0   0   1   3  33  44   4   1   0   0   0   0   0   0   0   0   0   0\n",
            "    0   0   0   0   0]\n",
            " [  0   0   0   0   1   4  77   0   0   0   0   0   0   0   0   0   0   0\n",
            "    0   0   0   0   0]\n",
            " [  0   0   0   0   0   0   7  66   2   0   0   0   0   0   0   0   0   0\n",
            "    0   0   0   0   0]\n",
            " [  0   0   0   0   0   1   6   6  58  11   1   0   0   0   0   0   0   0\n",
            "    0   0   0   0   0]\n",
            " [  0   0   0   0   0   0   1   2  18  32   0   0   0   0   0   0   0   0\n",
            "    0   0   0   0   0]\n",
            " [  0   0   0   0   0   0   0   0   0   5  30   9   1   0   0   0   0   0\n",
            "    0   0   0   0   0]\n",
            " [  0   0   0   0   0   0   1   1   0   1   7  18   2   0   0   0   0   0\n",
            "    0   0   0   0   0]\n",
            " [  0   0   0   0   0   0   0   1   0   1   1   5  16   8   0   0   0   0\n",
            "    0   0   0   0   0]\n",
            " [  0   0   0   0   0   0   0   1   0   1   3   1   3  13   1   0   0   0\n",
            "    0   0   0   0   0]\n",
            " [  0   0   0   0   0   0   0   0   0   0   0   0   2   1   9   5   1   0\n",
            "    0   0   0   0   0]\n",
            " [  0   0   0   0   0   0   0   1   0   0   0   0   1   0   6   3   0   0\n",
            "    0   0   0   0   0]\n",
            " [  0   0   0   0   0   0   0   0   0   0   0   1   0   1   0   2   8   2\n",
            "    0   0   0   0   0]\n",
            " [  0   0   0   0   0   0   0   0   0   0   0   0   0   0   0   2   6   2\n",
            "    0   0   0   0   0]\n",
            " [  0   0   0   0   0   0   0   0   0   0   0   0   0   0   0   0   1   0\n",
            "    1   0   0   0   0]\n",
            " [  0   0   0   0   0   0   0   0   0   0   0   0   0   0   0   0   0   1\n",
            "    1   0   1   0   0]\n",
            " [  0   0   0   0   0   0   0   0   0   0   0   0   0   0   0   0   0   0\n",
            "    0   2   0   0   1]\n",
            " [  0   0   0   0   0   0   0   0   0   0   0   0   0   0   0   0   0   0\n",
            "    1   1   2   0   0]\n",
            " [  0   0   0   0   0   0   0   0   0   0   0   0   0   0   0   0   0   0\n",
            "    0   0   1   0   0]]\n",
            "              precision    recall  f1-score   support\n",
            "\n",
            "        66.0       0.98      0.80      0.88        74\n",
            "        67.0       0.88      0.99      0.93       162\n",
            "        68.0       0.72      0.88      0.79       132\n",
            "        69.0       0.83      0.63      0.71       121\n",
            "        70.0       0.72      0.80      0.76       115\n",
            "        71.0       0.63      0.51      0.56        86\n",
            "        72.0       0.80      0.94      0.87        82\n",
            "        73.0       0.84      0.88      0.86        75\n",
            "        74.0       0.74      0.70      0.72        83\n",
            "        75.0       0.63      0.60      0.62        53\n",
            "        76.0       0.71      0.67      0.69        45\n",
            "        77.0       0.53      0.60      0.56        30\n",
            "        78.0       0.64      0.50      0.56        32\n",
            "        79.0       0.57      0.57      0.57        23\n",
            "        80.0       0.56      0.50      0.53        18\n",
            "        81.0       0.25      0.27      0.26        11\n",
            "        82.0       0.50      0.57      0.53        14\n",
            "        83.0       0.40      0.20      0.27        10\n",
            "        84.0       0.33      0.50      0.40         2\n",
            "        85.0       0.00      0.00      0.00         3\n",
            "        86.0       0.00      0.00      0.00         3\n",
            "        87.0       0.00      0.00      0.00         4\n",
            "        88.0       0.00      0.00      0.00         1\n",
            "\n",
            "    accuracy                           0.75      1179\n",
            "   macro avg       0.53      0.53      0.52      1179\n",
            "weighted avg       0.74      0.75      0.74      1179\n",
            "\n"
          ]
        },
        {
          "output_type": "stream",
          "name": "stderr",
          "text": [
            "/usr/local/lib/python3.10/dist-packages/sklearn/metrics/_classification.py:1344: UndefinedMetricWarning: Precision and F-score are ill-defined and being set to 0.0 in labels with no predicted samples. Use `zero_division` parameter to control this behavior.\n",
            "  _warn_prf(average, modifier, msg_start, len(result))\n",
            "/usr/local/lib/python3.10/dist-packages/sklearn/metrics/_classification.py:1344: UndefinedMetricWarning: Precision and F-score are ill-defined and being set to 0.0 in labels with no predicted samples. Use `zero_division` parameter to control this behavior.\n",
            "  _warn_prf(average, modifier, msg_start, len(result))\n",
            "/usr/local/lib/python3.10/dist-packages/sklearn/metrics/_classification.py:1344: UndefinedMetricWarning: Precision and F-score are ill-defined and being set to 0.0 in labels with no predicted samples. Use `zero_division` parameter to control this behavior.\n",
            "  _warn_prf(average, modifier, msg_start, len(result))\n"
          ]
        }
      ],
      "source": [
        "from sklearn.ensemble import RandomForestClassifier\n",
        "rf = RandomForestClassifier(n_estimators=100)\n",
        "rf.fit(X_train, y_train)\n",
        "y_pred = rf.predict(X_test)\n",
        "print(rf.__class__.__name__)\n",
        "print(confusion_matrix(y_test, y_pred))\n",
        "print(classification_report(y_test, y_pred))"
      ]
    },
    {
      "cell_type": "markdown",
      "id": "SRs-AU7JNUsI",
      "metadata": {
        "id": "SRs-AU7JNUsI"
      },
      "source": [
        "**Boosting**"
      ]
    },
    {
      "cell_type": "code",
      "execution_count": 24,
      "id": "9V8eLapzNb3w",
      "metadata": {
        "id": "9V8eLapzNb3w"
      },
      "outputs": [],
      "source": [
        "from sklearn.ensemble import AdaBoostClassifier, GradientBoostingClassifier\n",
        "ada = AdaBoostClassifier(base_estimator=dt, n_estimators=100)\n",
        "gb = GradientBoostingClassifier(n_estimators=100)"
      ]
    },
    {
      "cell_type": "code",
      "execution_count": 25,
      "id": "usuGp-ZjNepo",
      "metadata": {
        "id": "usuGp-ZjNepo",
        "colab": {
          "base_uri": "https://localhost:8080/"
        },
        "outputId": "eaebc164-419f-4cf8-a7ac-d5b3059ea2dd"
      },
      "outputs": [
        {
          "output_type": "stream",
          "name": "stdout",
          "text": [
            "AdaBoostClassifier\n",
            "[[ 68   6   0   0   0   0   0   0   0   0   0   0   0   0   0   0   0   0\n",
            "    0   0   0   0   0   0]\n",
            " [  3 156   3   0   0   0   0   0   0   0   0   0   0   0   0   0   0   0\n",
            "    0   0   0   0   0   0]\n",
            " [  1   2 108  21   0   0   0   0   0   0   0   0   0   0   0   0   0   0\n",
            "    0   0   0   0   0   0]\n",
            " [  0   1  33  86   0   1   0   0   0   0   0   0   0   0   0   0   0   0\n",
            "    0   0   0   0   0   0]\n",
            " [  0   0   0   2  88  25   0   0   0   0   0   0   0   0   0   0   0   0\n",
            "    0   0   0   0   0   0]\n",
            " [  0   0   0   2  35  47   1   1   0   0   0   0   0   0   0   0   0   0\n",
            "    0   0   0   0   0   0]\n",
            " [  0   0   0   1   0   0  76   3   1   1   0   0   0   0   0   0   0   0\n",
            "    0   0   0   0   0   0]\n",
            " [  0   0   0   0   1   0  10  63   1   0   0   0   0   0   0   0   0   0\n",
            "    0   0   0   0   0   0]\n",
            " [  0   0   0   0   0   0   1   1  59  20   2   0   0   0   0   0   0   0\n",
            "    0   0   0   0   0   0]\n",
            " [  0   0   0   0   0   0   0   2  18  33   0   0   0   0   0   0   0   0\n",
            "    0   0   0   0   0   0]\n",
            " [  0   0   0   0   0   0   0   0   0   1  29  12   3   0   0   0   0   0\n",
            "    0   0   0   0   0   0]\n",
            " [  0   0   0   0   0   0   0   0   1   0   6  18   3   0   2   0   0   0\n",
            "    0   0   0   0   0   0]\n",
            " [  0   0   0   0   0   0   0   0   0   0   0   4  16   6   5   1   0   0\n",
            "    0   0   0   0   0   0]\n",
            " [  0   0   0   0   0   0   0   0   1   0   2   4   4  11   1   0   0   0\n",
            "    0   0   0   0   0   0]\n",
            " [  0   0   0   0   0   0   0   0   0   0   0   0   3   0   9   4   2   0\n",
            "    0   0   0   0   0   0]\n",
            " [  0   0   0   0   0   0   0   0   0   0   0   0   1   0   6   3   1   0\n",
            "    0   0   0   0   0   0]\n",
            " [  0   0   0   0   0   0   0   0   0   0   0   1   0   0   0   4   7   2\n",
            "    0   0   0   0   0   0]\n",
            " [  0   0   0   0   0   0   0   0   0   0   0   0   0   0   0   0   5   3\n",
            "    2   0   0   0   0   0]\n",
            " [  0   0   0   0   0   0   0   0   0   0   0   0   0   0   0   0   0   0\n",
            "    1   0   1   0   0   0]\n",
            " [  0   0   0   0   0   0   0   0   0   0   0   0   0   0   0   0   0   0\n",
            "    1   2   0   0   0   0]\n",
            " [  0   0   0   0   0   0   0   0   0   0   0   0   0   0   0   0   0   0\n",
            "    1   0   1   0   0   1]\n",
            " [  0   0   0   0   0   0   0   0   0   0   0   0   0   0   0   0   0   0\n",
            "    1   0   2   1   0   0]\n",
            " [  0   0   0   0   0   0   0   0   0   0   0   0   0   0   0   0   0   0\n",
            "    0   0   1   0   0   0]\n",
            " [  0   0   0   0   0   0   0   0   0   0   0   0   0   0   0   0   0   0\n",
            "    0   0   0   0   0   0]]\n",
            "              precision    recall  f1-score   support\n",
            "\n",
            "        66.0       0.94      0.92      0.93        74\n",
            "        67.0       0.95      0.96      0.95       162\n",
            "        68.0       0.75      0.82      0.78       132\n",
            "        69.0       0.77      0.71      0.74       121\n",
            "        70.0       0.71      0.77      0.74       115\n",
            "        71.0       0.64      0.55      0.59        86\n",
            "        72.0       0.86      0.93      0.89        82\n",
            "        73.0       0.90      0.84      0.87        75\n",
            "        74.0       0.73      0.71      0.72        83\n",
            "        75.0       0.60      0.62      0.61        53\n",
            "        76.0       0.74      0.64      0.69        45\n",
            "        77.0       0.46      0.60      0.52        30\n",
            "        78.0       0.53      0.50      0.52        32\n",
            "        79.0       0.65      0.48      0.55        23\n",
            "        80.0       0.39      0.50      0.44        18\n",
            "        81.0       0.25      0.27      0.26        11\n",
            "        82.0       0.47      0.50      0.48        14\n",
            "        83.0       0.60      0.30      0.40        10\n",
            "        84.0       0.17      0.50      0.25         2\n",
            "        85.0       1.00      0.67      0.80         3\n",
            "        86.0       0.20      0.33      0.25         3\n",
            "        87.0       1.00      0.25      0.40         4\n",
            "        88.0       0.00      0.00      0.00         1\n",
            "        89.0       0.00      0.00      0.00         0\n",
            "\n",
            "    accuracy                           0.75      1179\n",
            "   macro avg       0.60      0.56      0.56      1179\n",
            "weighted avg       0.76      0.75      0.75      1179\n",
            "\n"
          ]
        },
        {
          "output_type": "stream",
          "name": "stderr",
          "text": [
            "/usr/local/lib/python3.10/dist-packages/sklearn/ensemble/_base.py:166: FutureWarning: `base_estimator` was renamed to `estimator` in version 1.2 and will be removed in 1.4.\n",
            "  warnings.warn(\n",
            "/usr/local/lib/python3.10/dist-packages/sklearn/metrics/_classification.py:1344: UndefinedMetricWarning: Precision and F-score are ill-defined and being set to 0.0 in labels with no predicted samples. Use `zero_division` parameter to control this behavior.\n",
            "  _warn_prf(average, modifier, msg_start, len(result))\n",
            "/usr/local/lib/python3.10/dist-packages/sklearn/metrics/_classification.py:1344: UndefinedMetricWarning: Recall and F-score are ill-defined and being set to 0.0 in labels with no true samples. Use `zero_division` parameter to control this behavior.\n",
            "  _warn_prf(average, modifier, msg_start, len(result))\n",
            "/usr/local/lib/python3.10/dist-packages/sklearn/metrics/_classification.py:1344: UndefinedMetricWarning: Precision and F-score are ill-defined and being set to 0.0 in labels with no predicted samples. Use `zero_division` parameter to control this behavior.\n",
            "  _warn_prf(average, modifier, msg_start, len(result))\n",
            "/usr/local/lib/python3.10/dist-packages/sklearn/metrics/_classification.py:1344: UndefinedMetricWarning: Recall and F-score are ill-defined and being set to 0.0 in labels with no true samples. Use `zero_division` parameter to control this behavior.\n",
            "  _warn_prf(average, modifier, msg_start, len(result))\n",
            "/usr/local/lib/python3.10/dist-packages/sklearn/metrics/_classification.py:1344: UndefinedMetricWarning: Precision and F-score are ill-defined and being set to 0.0 in labels with no predicted samples. Use `zero_division` parameter to control this behavior.\n",
            "  _warn_prf(average, modifier, msg_start, len(result))\n",
            "/usr/local/lib/python3.10/dist-packages/sklearn/metrics/_classification.py:1344: UndefinedMetricWarning: Recall and F-score are ill-defined and being set to 0.0 in labels with no true samples. Use `zero_division` parameter to control this behavior.\n",
            "  _warn_prf(average, modifier, msg_start, len(result))\n"
          ]
        },
        {
          "output_type": "stream",
          "name": "stdout",
          "text": [
            "GradientBoostingClassifier\n",
            "[[ 65   9   0   0   0   0   0   0   0   0   0   0   0   0   0   0   0   0\n",
            "    0   0   0   0   0   0]\n",
            " [  2 160   0   0   0   0   0   0   0   0   0   0   0   0   0   0   0   0\n",
            "    0   0   0   0   0   0]\n",
            " [  0   3 111  18   0   0   0   0   0   0   0   0   0   0   0   0   0   0\n",
            "    0   0   0   0   0   0]\n",
            " [  0   2  34  85   0   0   0   0   0   0   0   0   0   0   0   0   0   0\n",
            "    0   0   0   0   0   0]\n",
            " [  0   0   0   0  91  24   0   0   0   0   0   0   0   0   0   0   0   0\n",
            "    0   0   0   0   0   0]\n",
            " [  0   0   0   2  23  58   0   3   0   0   0   0   0   0   0   0   0   0\n",
            "    0   0   0   0   0   0]\n",
            " [  0   0   0   0   0   3  78   1   0   0   0   0   0   0   0   0   0   0\n",
            "    0   0   0   0   0   0]\n",
            " [  0   0   0   0   2   2   4  67   0   0   0   0   0   0   0   0   0   0\n",
            "    0   0   0   0   0   0]\n",
            " [  0   0   0   0   0   0   1   1  69  11   1   0   0   0   0   0   0   0\n",
            "    0   0   0   0   0   0]\n",
            " [  0   0   0   0   0   0   1   1  22  29   0   0   0   0   0   0   0   0\n",
            "    0   0   0   0   0   0]\n",
            " [  0   0   0   0   0   0   0   1   1   2  34   5   2   0   0   0   0   0\n",
            "    0   0   0   0   0   0]\n",
            " [  0   0   0   0   0   0   1   1   0   1   6  18   3   0   0   0   0   0\n",
            "    0   0   0   0   0   0]\n",
            " [  0   0   0   0   0   0   0   0   0   4   1   3  15   7   1   1   0   0\n",
            "    0   0   0   0   0   0]\n",
            " [  0   0   0   0   0   0   0   0   0   2   1   3   2  14   1   0   0   0\n",
            "    0   0   0   0   0   0]\n",
            " [  0   0   0   0   0   0   0   0   0   0   0   0   3   2  10   3   0   0\n",
            "    0   0   0   0   0   0]\n",
            " [  0   0   0   0   0   0   0   0   0   0   0   1   2   0   4   4   0   0\n",
            "    0   0   0   0   0   0]\n",
            " [  0   0   0   0   0   0   0   1   0   0   0   1   0   1   0   0   8   3\n",
            "    0   0   0   0   0   0]\n",
            " [  0   0   0   0   0   0   0   0   0   0   0   0   0   0   2   0   3   4\n",
            "    0   0   0   0   1   0]\n",
            " [  0   0   0   0   0   0   0   0   0   0   0   0   0   0   0   0   1   0\n",
            "    1   0   0   0   0   0]\n",
            " [  0   0   0   0   0   0   0   0   0   0   0   0   0   0   0   0   0   0\n",
            "    1   1   0   0   1   0]\n",
            " [  0   0   0   0   0   0   0   0   0   0   0   0   0   0   0   0   0   0\n",
            "    0   0   1   1   1   0]\n",
            " [  0   0   0   0   0   0   0   0   0   0   0   0   0   0   0   0   0   0\n",
            "    0   0   4   0   0   0]\n",
            " [  0   0   0   0   0   0   0   0   0   0   0   0   0   0   0   0   0   0\n",
            "    0   0   0   0   0   1]\n",
            " [  0   0   0   0   0   0   0   0   0   0   0   0   0   0   0   0   0   0\n",
            "    0   0   0   0   0   0]]\n",
            "              precision    recall  f1-score   support\n",
            "\n",
            "        66.0       0.97      0.88      0.92        74\n",
            "        67.0       0.92      0.99      0.95       162\n",
            "        68.0       0.77      0.84      0.80       132\n",
            "        69.0       0.81      0.70      0.75       121\n",
            "        70.0       0.78      0.79      0.79       115\n",
            "        71.0       0.67      0.67      0.67        86\n",
            "        72.0       0.92      0.95      0.93        82\n",
            "        73.0       0.88      0.89      0.89        75\n",
            "        74.0       0.75      0.83      0.79        83\n",
            "        75.0       0.59      0.55      0.57        53\n",
            "        76.0       0.79      0.76      0.77        45\n",
            "        77.0       0.58      0.60      0.59        30\n",
            "        78.0       0.56      0.47      0.51        32\n",
            "        79.0       0.58      0.61      0.60        23\n",
            "        80.0       0.56      0.56      0.56        18\n",
            "        81.0       0.50      0.36      0.42        11\n",
            "        82.0       0.67      0.57      0.62        14\n",
            "        83.0       0.57      0.40      0.47        10\n",
            "        84.0       0.50      0.50      0.50         2\n",
            "        85.0       1.00      0.33      0.50         3\n",
            "        86.0       0.20      0.33      0.25         3\n",
            "        87.0       0.00      0.00      0.00         4\n",
            "        88.0       0.00      0.00      0.00         1\n",
            "        89.0       0.00      0.00      0.00         0\n",
            "\n",
            "    accuracy                           0.78      1179\n",
            "   macro avg       0.61      0.57      0.58      1179\n",
            "weighted avg       0.78      0.78      0.78      1179\n",
            "\n"
          ]
        },
        {
          "output_type": "stream",
          "name": "stderr",
          "text": [
            "/usr/local/lib/python3.10/dist-packages/sklearn/metrics/_classification.py:1344: UndefinedMetricWarning: Recall and F-score are ill-defined and being set to 0.0 in labels with no true samples. Use `zero_division` parameter to control this behavior.\n",
            "  _warn_prf(average, modifier, msg_start, len(result))\n",
            "/usr/local/lib/python3.10/dist-packages/sklearn/metrics/_classification.py:1344: UndefinedMetricWarning: Recall and F-score are ill-defined and being set to 0.0 in labels with no true samples. Use `zero_division` parameter to control this behavior.\n",
            "  _warn_prf(average, modifier, msg_start, len(result))\n",
            "/usr/local/lib/python3.10/dist-packages/sklearn/metrics/_classification.py:1344: UndefinedMetricWarning: Recall and F-score are ill-defined and being set to 0.0 in labels with no true samples. Use `zero_division` parameter to control this behavior.\n",
            "  _warn_prf(average, modifier, msg_start, len(result))\n"
          ]
        }
      ],
      "source": [
        "for model in (ada, gb):\n",
        "    model.fit(X_train, y_train)\n",
        "    y_pred = model.predict(X_test)\n",
        "    print(model.__class__.__name__)\n",
        "    print(confusion_matrix(y_test, y_pred))\n",
        "    print(classification_report(y_test, y_pred))"
      ]
    },
    {
      "cell_type": "markdown",
      "id": "OUZKXCA8TKBS",
      "metadata": {
        "id": "OUZKXCA8TKBS"
      },
      "source": [
        "**selecting the best model**"
      ]
    },
    {
      "cell_type": "code",
      "execution_count": 26,
      "id": "OuNl89mdTQKA",
      "metadata": {
        "id": "OuNl89mdTQKA"
      },
      "outputs": [],
      "source": [
        "models = {\n",
        "    'DecisionTree': dt,\n",
        "    'KNeighbors': knn,\n",
        "    'SVC': sv,\n",
        "    'GaussianNB': nb,\n",
        "    'LogisticRegression': LR,\n",
        "    'Voting (Hard)': voting,\n",
        "    'Voting (Soft)': soft_voting,\n",
        "    'RandomForest': rf,\n",
        "    'AdaBoost': ada,\n",
        "    'GradientBoosting': gb\n",
        "}"
      ]
    },
    {
      "cell_type": "code",
      "execution_count": 27,
      "id": "YZljLFzPTV5V",
      "metadata": {
        "id": "YZljLFzPTV5V",
        "colab": {
          "base_uri": "https://localhost:8080/"
        },
        "outputId": "569016b1-d78d-42be-a513-1fd0068ffa55"
      },
      "outputs": [
        {
          "output_type": "stream",
          "name": "stdout",
          "text": [
            "The best model is GradientBoosting with an accuracy of 0.78\n"
          ]
        }
      ],
      "source": [
        "best_model_name = None\n",
        "best_model_score = 0\n",
        "\n",
        "for name, model in models.items():\n",
        "    y_pred = model.predict(X_test)\n",
        "    score = accuracy_score(y_test, y_pred)\n",
        "    if score > best_model_score:\n",
        "        best_model_score = score\n",
        "        best_model_name = name\n",
        "\n",
        "print(f\"The best model is {best_model_name} with an accuracy of {best_model_score:.2f}\")"
      ]
    },
    {
      "cell_type": "code",
      "source": [
        "scaler = StandardScaler()\n",
        "scaler.fit(X_train)"
      ],
      "metadata": {
        "colab": {
          "base_uri": "https://localhost:8080/",
          "height": 74
        },
        "id": "120JqVBLb7pq",
        "outputId": "0fc02044-25b2-4b20-8e9d-f393cebd1b6d"
      },
      "id": "120JqVBLb7pq",
      "execution_count": 38,
      "outputs": [
        {
          "output_type": "execute_result",
          "data": {
            "text/plain": [
              "StandardScaler()"
            ],
            "text/html": [
              "<style>#sk-container-id-2 {color: black;background-color: white;}#sk-container-id-2 pre{padding: 0;}#sk-container-id-2 div.sk-toggleable {background-color: white;}#sk-container-id-2 label.sk-toggleable__label {cursor: pointer;display: block;width: 100%;margin-bottom: 0;padding: 0.3em;box-sizing: border-box;text-align: center;}#sk-container-id-2 label.sk-toggleable__label-arrow:before {content: \"▸\";float: left;margin-right: 0.25em;color: #696969;}#sk-container-id-2 label.sk-toggleable__label-arrow:hover:before {color: black;}#sk-container-id-2 div.sk-estimator:hover label.sk-toggleable__label-arrow:before {color: black;}#sk-container-id-2 div.sk-toggleable__content {max-height: 0;max-width: 0;overflow: hidden;text-align: left;background-color: #f0f8ff;}#sk-container-id-2 div.sk-toggleable__content pre {margin: 0.2em;color: black;border-radius: 0.25em;background-color: #f0f8ff;}#sk-container-id-2 input.sk-toggleable__control:checked~div.sk-toggleable__content {max-height: 200px;max-width: 100%;overflow: auto;}#sk-container-id-2 input.sk-toggleable__control:checked~label.sk-toggleable__label-arrow:before {content: \"▾\";}#sk-container-id-2 div.sk-estimator input.sk-toggleable__control:checked~label.sk-toggleable__label {background-color: #d4ebff;}#sk-container-id-2 div.sk-label input.sk-toggleable__control:checked~label.sk-toggleable__label {background-color: #d4ebff;}#sk-container-id-2 input.sk-hidden--visually {border: 0;clip: rect(1px 1px 1px 1px);clip: rect(1px, 1px, 1px, 1px);height: 1px;margin: -1px;overflow: hidden;padding: 0;position: absolute;width: 1px;}#sk-container-id-2 div.sk-estimator {font-family: monospace;background-color: #f0f8ff;border: 1px dotted black;border-radius: 0.25em;box-sizing: border-box;margin-bottom: 0.5em;}#sk-container-id-2 div.sk-estimator:hover {background-color: #d4ebff;}#sk-container-id-2 div.sk-parallel-item::after {content: \"\";width: 100%;border-bottom: 1px solid gray;flex-grow: 1;}#sk-container-id-2 div.sk-label:hover label.sk-toggleable__label {background-color: #d4ebff;}#sk-container-id-2 div.sk-serial::before {content: \"\";position: absolute;border-left: 1px solid gray;box-sizing: border-box;top: 0;bottom: 0;left: 50%;z-index: 0;}#sk-container-id-2 div.sk-serial {display: flex;flex-direction: column;align-items: center;background-color: white;padding-right: 0.2em;padding-left: 0.2em;position: relative;}#sk-container-id-2 div.sk-item {position: relative;z-index: 1;}#sk-container-id-2 div.sk-parallel {display: flex;align-items: stretch;justify-content: center;background-color: white;position: relative;}#sk-container-id-2 div.sk-item::before, #sk-container-id-2 div.sk-parallel-item::before {content: \"\";position: absolute;border-left: 1px solid gray;box-sizing: border-box;top: 0;bottom: 0;left: 50%;z-index: -1;}#sk-container-id-2 div.sk-parallel-item {display: flex;flex-direction: column;z-index: 1;position: relative;background-color: white;}#sk-container-id-2 div.sk-parallel-item:first-child::after {align-self: flex-end;width: 50%;}#sk-container-id-2 div.sk-parallel-item:last-child::after {align-self: flex-start;width: 50%;}#sk-container-id-2 div.sk-parallel-item:only-child::after {width: 0;}#sk-container-id-2 div.sk-dashed-wrapped {border: 1px dashed gray;margin: 0 0.4em 0.5em 0.4em;box-sizing: border-box;padding-bottom: 0.4em;background-color: white;}#sk-container-id-2 div.sk-label label {font-family: monospace;font-weight: bold;display: inline-block;line-height: 1.2em;}#sk-container-id-2 div.sk-label-container {text-align: center;}#sk-container-id-2 div.sk-container {/* jupyter's `normalize.less` sets `[hidden] { display: none; }` but bootstrap.min.css set `[hidden] { display: none !important; }` so we also need the `!important` here to be able to override the default hidden behavior on the sphinx rendered scikit-learn.org. See: https://github.com/scikit-learn/scikit-learn/issues/21755 */display: inline-block !important;position: relative;}#sk-container-id-2 div.sk-text-repr-fallback {display: none;}</style><div id=\"sk-container-id-2\" class=\"sk-top-container\"><div class=\"sk-text-repr-fallback\"><pre>StandardScaler()</pre><b>In a Jupyter environment, please rerun this cell to show the HTML representation or trust the notebook. <br />On GitHub, the HTML representation is unable to render, please try loading this page with nbviewer.org.</b></div><div class=\"sk-container\" hidden><div class=\"sk-item\"><div class=\"sk-estimator sk-toggleable\"><input class=\"sk-toggleable__control sk-hidden--visually\" id=\"sk-estimator-id-2\" type=\"checkbox\" checked><label for=\"sk-estimator-id-2\" class=\"sk-toggleable__label sk-toggleable__label-arrow\">StandardScaler</label><div class=\"sk-toggleable__content\"><pre>StandardScaler()</pre></div></div></div></div></div>"
            ]
          },
          "metadata": {},
          "execution_count": 38
        }
      ]
    },
    {
      "cell_type": "code",
      "execution_count": 39,
      "id": "8X7arqlkTafI",
      "metadata": {
        "id": "8X7arqlkTafI"
      },
      "outputs": [],
      "source": [
        "model_data = {\n",
        "    'model': model,\n",
        "    'feature_names': X.columns.tolist()\n",
        "}\n",
        "with open('best_model.pkl', 'wb') as file:\n",
        "    pickle.dump(model_data, file)\n",
        "\n",
        "with open('scaler.pkl', 'wb') as file:\n",
        "    pickle.dump(scaler, file)"
      ]
    },
    {
      "cell_type": "code",
      "source": [],
      "metadata": {
        "id": "v09wnx0abwmS"
      },
      "id": "v09wnx0abwmS",
      "execution_count": null,
      "outputs": []
    },
    {
      "cell_type": "markdown",
      "id": "jZ5IxEjU9Nml",
      "metadata": {
        "id": "jZ5IxEjU9Nml"
      },
      "source": [
        "**Testing the model using the function**"
      ]
    },
    {
      "cell_type": "code",
      "source": [
        "new_data = pd.read_csv('players_22.csv', low_memory=False, nrows=10000)\n"
      ],
      "metadata": {
        "id": "udQKkZVBH4aT"
      },
      "id": "udQKkZVBH4aT",
      "execution_count": 36,
      "outputs": []
    },
    {
      "cell_type": "code",
      "source": [
        "def preprocess_data(data, train_columns, encoder, scaler=None):\n",
        "    cat_columns = data.select_dtypes(include=['object']).columns\n",
        "    encoded_cols = encoder.transform(data[cat_columns])\n",
        "    encoded_df = pd.DataFrame(encoded_cols, columns=encoder.get_feature_names_out(cat_columns))\n",
        "\n",
        "    data = data.drop(columns=cat_columns)\n",
        "    data = pd.concat([data, encoded_df], axis=1)\n",
        "\n",
        "    for col in train_columns:\n",
        "        if col not in data.columns:\n",
        "            data[col] = 0\n",
        "\n",
        "    data = data[train_columns]\n",
        "\n",
        "    data = data.fillna(0)\n",
        "\n",
        "    if scaler:\n",
        "        data = pd.DataFrame(scaler.transform(data), columns=data.columns)\n",
        "\n",
        "    return data\n"
      ],
      "metadata": {
        "id": "10ub6h3yMYYj"
      },
      "id": "10ub6h3yMYYj",
      "execution_count": 37,
      "outputs": []
    },
    {
      "cell_type": "code",
      "source": [
        "def test_model_in_batches(model, X_new, y_new, train_columns, encoder, scaler=None, batch_size=1000):\n",
        "    num_batches = len(X_new) // batch_size + 1\n",
        "    all_predictions = []\n",
        "\n",
        "    for i in range(num_batches):\n",
        "        start = i * batch_size\n",
        "        end = (i + 1) * batch_size\n",
        "        X_batch = X_new[start:end]\n",
        "        y_batch = y_new[start:end]\n",
        "\n",
        "        X_batch = preprocess_data(X_batch, train_columns, encoder, scaler)\n",
        "\n",
        "        # Make predictions\n",
        "        y_pred_batch = model.predict(X_batch)\n",
        "        all_predictions.extend(y_pred_batch)\n",
        "\n",
        "\n",
        "    mse = mean_squared_error(y_new, all_predictions)\n",
        "    r2 = r2_score(y_new, all_predictions)\n",
        "\n",
        "    return {\n",
        "        'mean_squared_error': mse,\n",
        "        'r2_score': r2\n",
        "    }\n",
        "\n",
        "with open('best_model.pkl', 'rb') as file:\n",
        "    model_data = pickle.load(file)\n",
        "\n",
        "best_model = model_data['model']\n",
        "train_columns = model_data['feature_names']\n",
        "encoder = model_data['encoder']\n",
        "scaler = model_data.get('scaler')\n",
        "\n",
        "print(\"Model, encoder, and scaler loaded successfully.\")\n",
        "\n",
        "new_data = pd.read_csv('players_22.csv', low_memory=False)\n",
        "\n",
        "y_new = new_data['overall']\n",
        "X_new = new_data.drop('overall', axis=1)\n",
        "\n",
        "results = test_model_in_batches(best_model, X_new, y_new, train_columns, encoder, scaler=scaler)\n",
        "\n",
        "print(f\"Mean Squared Error on new data: {results['mean_squared_error']:.2f}\")\n",
        "print(f\"R2 Score on new data: {results['r2_score']:.2f}\")"
      ],
      "metadata": {
        "id": "_YOELK1eRGFG"
      },
      "id": "_YOELK1eRGFG",
      "execution_count": null,
      "outputs": []
    }
  ],
  "metadata": {
    "colab": {
      "provenance": [],
      "gpuType": "T4"
    },
    "kernelspec": {
      "display_name": "Python 3",
      "name": "python3"
    },
    "language_info": {
      "codemirror_mode": {
        "name": "ipython",
        "version": 3
      },
      "file_extension": ".py",
      "mimetype": "text/x-python",
      "name": "python",
      "nbconvert_exporter": "python",
      "pygments_lexer": "ipython3",
      "version": "3.11.7"
    },
    "accelerator": "GPU"
  },
  "nbformat": 4,
  "nbformat_minor": 5
}